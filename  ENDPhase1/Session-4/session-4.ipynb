{
  "nbformat": 4,
  "nbformat_minor": 0,
  "metadata": {
    "colab": {
      "name": "Untitled2.ipynb",
      "provenance": [],
      "collapsed_sections": [],
      "authorship_tag": "ABX9TyOoVRnatzcySqPC0K5+AGCM",
      "include_colab_link": true
    },
    "kernelspec": {
      "name": "python3",
      "display_name": "Python 3"
    },
    "accelerator": "GPU"
  },
  "cells": [
    {
      "cell_type": "markdown",
      "metadata": {
        "id": "view-in-github",
        "colab_type": "text"
      },
      "source": [
        "<a href=\"https://colab.research.google.com/github/ranjanguddu/ENDPhase1/blob/main/%20ENDPhase1/Session-4/session-4.ipynb\" target=\"_parent\"><img src=\"https://colab.research.google.com/assets/colab-badge.svg\" alt=\"Open In Colab\"/></a>"
      ]
    },
    {
      "cell_type": "code",
      "metadata": {
        "id": "cmA4-7v3_gT7"
      },
      "source": [
        "import torch\n",
        "from torchtext import data\n",
        "from torchtext import datasets\n",
        "\n",
        "SEED = 1234\n",
        "\n",
        "torch.manual_seed(SEED)\n",
        "torch.backends.cudnn.deterministic = True\n",
        "\n",
        "TEXT = data.Field(tokenize = 'spacy', include_lengths = True)\n",
        "LABEL = data.LabelField(dtype = torch.float)"
      ],
      "execution_count": 1,
      "outputs": []
    },
    {
      "cell_type": "code",
      "metadata": {
        "id": "dCv3y_VX_o-n"
      },
      "source": [
        "from torchtext import datasets\n",
        "\n",
        "train_data, test_data = datasets.IMDB.splits(TEXT, LABEL)"
      ],
      "execution_count": 2,
      "outputs": []
    },
    {
      "cell_type": "code",
      "metadata": {
        "colab": {
          "base_uri": "https://localhost:8080/"
        },
        "id": "nqAL0K2JqPTU",
        "outputId": "005dbac4-febc-47d1-d88a-92e5ccb50115"
      },
      "source": [
        "print(f'Number of training examples: {len(train_data)}')\n",
        "print(f'Number of testing examples: {len(test_data)}')"
      ],
      "execution_count": 3,
      "outputs": [
        {
          "output_type": "stream",
          "text": [
            "Number of training examples: 25000\n",
            "Number of testing examples: 25000\n"
          ],
          "name": "stdout"
        }
      ]
    },
    {
      "cell_type": "code",
      "metadata": {
        "colab": {
          "base_uri": "https://localhost:8080/"
        },
        "id": "E3vD2-iJpqMX",
        "outputId": "a25ec2f4-169f-4d43-f676-b39aca79bea6"
      },
      "source": [
        "for i in range(10):\n",
        "  print(vars(train_data.examples[i]).get('text'))\n"
      ],
      "execution_count": 5,
      "outputs": [
        {
          "output_type": "stream",
          "text": [
            "['A', 'Brother', \"'s\", 'Promise', 'is', 'a', 'wonderful', 'family', 'film', '.', 'This', 'is', 'a', 'biography', 'of', 'Dan', 'Jansen', ',', 'a', 'champion', 'Olympic', 'speed', 'skater', '.', 'The', 'movie', 'depicts', 'this', 'athlete', \"'s\", 'life', 'from', 'a', 'young', 'age', 'through', 'full', 'adulthood', '.', 'The', 'love', 'and', 'support', 'of', 'the', 'family', 'members', 'is', 'evident', 'throughout', '.', 'How', 'Dan', 'and', 'the', 'rest', 'of', 'his', 'family', 'handle', 'winning', 'and', 'losing', 'races', 'is', 'a', 'life', 'lesson', 'for', 'all', 'of', 'us', '.', 'The', 'commitment', 'and', 'determination', 'of', 'Dan', \"'s\", 'coach', 'and', 'his', 'teammates', ',', 'shows', 'what', 'it', 'takes', 'to', 'make', 'a', 'real', 'team', '.', 'How', 'Dan', 'and', 'his', 'family', 'deal', 'with', 'a', 'devastating', 'illness', 'of', 'a', 'loved', 'one', 'is', 'depicted', 'without', 'undo', 'sentiment', 'or', 'sugarcoating', '.', 'The', 'faith', 'of', 'the', 'family', 'is', 'shown', 'in', 'basic', 'terms', 'and', 'is', 'obviously', 'a', 'major', 'part', 'of', 'their', 'lives', '.', 'This', 'is', 'a', 'powerful', 'family', 'film', 'which', 'can', 'be', 'meaningful', 'for', 'a', 'person', 'of', 'any', 'age', '.']\n",
            "['Very', 'sweet', 'pilot', '.', 'The', 'show', 'reeks', 'of', 'Tim', 'Burton', \"'s\", 'better', 'films', '...', 'Edward', 'Sissorhands', ',', 'Big', 'Fish', ',', 'Charlie', '&', 'the', 'Chocolate', 'Factory', '.', 'The', 'cinematography', ',', 'the', 'narration', ',', 'the', 'music', ',', 'the', 'external', 'sets', 'all', 'scream', 'Tim', 'Burton', '.', 'There', 'has', 'to', 'be', 'a', 'connection', ',', 'or', 'a', 'STRONG', 'influence', ',', 'I', 'just', 'have', \"n't\", 'researched', 'enough', 'to', 'know', 'where', 'it', 'is.<br', '/><br', '/>As', 'I', \"'ve\", 'seen', 'in', 'the', 'forums', ',', 'yes', 'Anna', 'Friel', 'is', 'playing', 'a', 'poor', 'man', \"'s\", 'Zooey', 'Deschanel', '.', 'Every', 'time', 'I', 'see', 'her', 'on', 'the', 'screen', 'I', 'see', 'Zooey', '.', 'Do', \"n't\", 'get', 'me', 'wrong', ',', 'Anna', 'Friel', 'does', 'a', 'great', 'job', '.', 'Her', 'character', 'is', 'very', 'sweet', 'and', 'lovable', 'and', 'you', 'easily', 'get', 'attached', 'to', 'her', '.', 'It', \"'s\", 'more', 'of', 'a', 'distraction', 'that', 'I', 'keep', 'thinking', '\"', 'Why', 'did', \"n't\", 'they', 'get', 'Zooey', 'Deschanel\".<br', '/><br', '/>Lee', 'Pace', 'does', 'a', 'great', 'job', 'too', '.', 'I', 'kept', 'trying', 'to', 'remember', 'where', 'I', 'knew', 'him', 'from', 'and', 'just', 'looked', 'it', 'up', '.', 'Wonderfalls', '!', '!', '!', 'Great', ',', 'short', 'lived', 'series', 'from', '2004', '.', 'If', 'you', 'enjoy', 'Pushing', 'Daisies', 'you', 'MUST', 'go', 'rent', 'Wonderfalls', ',', 'which', 'is', 'another', 'Brian', 'Fuller', 'creation', '\\x85', '.hmmmm', '<', 'br', '/><br', '/>Loved', 'seeing', 'Swoosie', 'Kurtz', '(', 'World', 'According', 'to', 'Garp', ')', 'and', 'Ellen', 'Greene', '(', 'Little', 'Shop', 'of', 'Horrors', ')', 'again', '.', 'Two', 'underrated', 'character', 'actresses', 'that', 'never', 'fail', 'to', 'bring', 'it', 'with', 'their', 'performances', '.']\n",
            "['Like', 'most', 'other', 'reviewers', 'I', 'have', 'first', 'seen', 'this', 'movie', '(', 'on', 'TV', ',', 'never', 'on', 'the', 'big', 'screen', ')', ',', 'when', 'I', 'was', 'a', 'teenager', '.', 'My', 'Dad', 'has', 'always', 'regarded', 'this', 'film', 'highly', 'and', 'recommended', 'it', 'to', 'me', 'then', ',', 'and', 'I', 'must', 'say', 'he', 'was', 'not', 'only', 'right', ',', 'but', 'this', 'movie', 'has', 'stayed', 'with', 'me', 'forever', 'in', 'the', 'more', 'than', '2', 'decades', 'since', 'I', 'saw', 'it', 'first', 'time', '.', 'I', 'have', 'seen', 'it', 'two', 'or', 'three', 'more', 'times', 'since', 'then', '(', 'just', 'a', 'few', 'days', 'ago', 'I', 'gave', 'it', 'another', 'watch', ')', 'and', 'it', 'has', 'not', 'lost', 'anything', 'of', 'its', 'impact', 'with', 'time', '.', 'It', 'still', 'a', 'great', 'and', 'well', 'worth', 'to', 'be', 'seen', 'movie', '!', 'Manr', 'regard', 'Peckinpah', \"'s\", 'RIDE', 'THE', 'HIGH', 'COUNTRY', 'as', 'one', 'of', 'the', 'first', 'and', 'best', 'later', 'western', ',', 'which', 'had', 'a', 'realistic', 'look', 'at', 'life', 'in', 'the', 'old', 'west', ',', 'but', 'the', 'hardly', 'known', 'LAST', 'HUNT', 'is', 'definitely', 'the', 'better', 'movie', 'and', 'was', 'even', 'half', 'a', 'dozen', 'years', 'earlier', '.', 'Actually', 'it', 'was', 'probably', '3', 'decades', 'ahead', 'of', 'its', 'time', ',', 'or', 'maybe', 'it', 'still', 'is', '...', '<', 'br', '/><br', '/>Although', 'thinking', 'hard', 'and', 'having', 'certainly', 'seen', '100s', 'of', 'western', '(', 'I', 'like', 'this', 'genre', ')', 'I', 'can', 'not', 'remember', 'any', 'western', 'as', 'bleak', 'and', 'depressive', 'as', 'this', 'one', '.', 'Two', 'men', 'bound', 'together', ',', 'partly', 'by', 'hate', ',', 'partly', 'by', 'not', 'seeming', 'to', 'have', 'other', 'choices', ',', 'surrounded', 'by', 'beautiful', 'Ms.', 'Padget', ',', 'a', 'crippled', 'old', 'man', 'and', 'a', 'young', 'Inian', ',', 'leading', 'the', 'life', 'of', 'buffalo', '-', 'killers', 'until', 'fate', 'reaches', 'out', 'for', 'one', 'of', 'them.<br', '/><br', '/>Nobody', 'who', 'has', 'ever', 'seen', 'this', 'movie', 'will', 'be', 'able', 'to', 'forget', 'its', 'ending', 'and', 'the', 'last', 'frames', 'of', 'this', 'gem', '.', 'When', 'the', 'camera', 'moves', 'on', 'and', 'away', 'from', 'Mr.', 'Taylor', 'a', 'white', 'buffalo', 'skin', 'comes', 'into', 'sight', '(', 'on', 'a', 'tree)and', 'echos', 'from', 'the', 'past', ',', 'when', 'all', 'the', 'hatred', 'began', ',', 'are', 'present', 'again', '.', 'Mr.', 'Taylor', 'has', 'got', 'his', 'buffalo', ',', 'but', 'in', 'the', 'end', 'the', 'buffalo', 'got', 'him', '.', '<', 'br', '/><br', '/>Aside', 'from', 'the', 'top', 'performances', 'of', 'everybody', 'involved', ',', 'the', 'intelligent', 'script', 'and', 'the', 'great', 'dialogue', ',', 'it', 'should', 'also', 'be', 'mentioned', ',', 'that', 'THE', 'LAST', 'HUNT', 'is', 'superbly', 'photograped', ',', 'I', 'have', 'seldomely', 'seen', 'a', 'western', 'that', 'well', 'shot', '(', 'aside', 'from', 'the', 'ones', 'directed', 'by', 'Anthony', 'Mann', ',', 'which', 'are', 'also', 'all', 'superbly', 'photographed', ')', ',', 'that', 'all', 'the', 'locations', 'are', 'cleverly', 'chosen', 'and', 'that', 'even', 'the', 'soundtrack', 'fits', 'the', 'picture', 'very', 'well.<br', '/><br', '/>And', 'director', 'BROOKS', 'is', 'really', 'a', 'superb', 'storyteller', '.', 'Master', 'craftsmanship!He', 'has', 'made', 'quite', 'a', 'couple', 'of', 'really', 'great', 'movies', 'and', 'was', 'successful', 'in', 'nearly', 'every', 'imaginable', 'genre', ',', 'but', 'even', 'in', 'an', 'as', 'prolific', 'career', 'as', 'this', 'one', ',', 'THE', 'LAST', 'HUNT', 'still', 'shines', 'as', 'one', 'of', 'his', 'best', ',', 'if', 'not', 'his', 'best.<br', '/><br', '/>Definitely', 'would', 'deserve', 'a', 'higher', 'rating', ',', 'compared', 'to', 'the', '7-something', 'RIDE', 'THE', 'HIGH', 'COUNTRY', 'enjoys', '.']\n",
            "['After', 'having', 'seen', '\"', 'Marrying', 'Mafia', '\"', ',', 'I', \"'d\", 'nearly', 'lost', 'my', 'faith', 'in', 'Korean', 'movie', 'business', '.', 'But', 'this', 'one', 'brought', 'my', 'faith', 'back.<br', '/><br', '/>Leading', 'female', 'character', 'who', 'is', 'university', 'student', 'forced', 'to', 'teach', 'the', 'spoiled', ',', 'rich', 'but', 'charistmatic', 'high', 'school', 'student', 'guy', '.', 'He', 'is', 'actually', 'female', 'character', \"'s\", 'age', '.', 'Through', 'some', 'hilarious', 'quarrells', ',', 'these', 'two', 'end', 'up', 'being', 'great', 'friends.<br', '/><br', '/>I', 'was', 'pleasantly', 'surprised', 'that', 'newcomer', 'kwan', 'sang', 'woo', 'did', 'his', 'job', 'with', 'excellency', '.', 'He', 'was', 'such', 'a', 'revelation', '!', '!', 'Actress', 'Kim', 'ha', 'nul', 'was', 'also', 'charming', 'as', 'usual.<br', '/><br', '/>This', 'movie', 'tried', 'hard', 'to', 'avoid', 'any', 'cliches', 'that', 'can', 'be', 'seen', 'in', 'typical', 'romantic', 'comedies', '.', 'And', 'it', 'did', \"n't\", 'show', 'us', 'any', 'unnecessary', 'nude', ',', 'sex', 'scenes', '.', 'It', 'was', 'brilliant', ',', 'lovely', ',', 'fresh', ',', 'made', 'me', 'want', 'to', 'see', 'it', 'again.<br', '/><br', '/', '>']\n",
            "['Ying', ',', 'a', 'Chinese', 'girl', 'who', 'speaks', 'Czech', ',', 'invited', 'us', 'to', 'screening', 'of', 'a', 'Czech', 'movie', '(', 'with', 'English', 'subtitles', ')', 'in', 'the', 'Department', 'of', 'Visual', 'and', 'Environmental', 'Studies', '(', 'VES', ')', '.', 'It', 'was', 'the', 'first', 'time', 'I', 'saw', 'Samotá&#345;i', '(', 'Loners', ',', '2000', ')', 'and', 'it', 'was', 'pretty', 'good.<br', '/><br', '/>Much', 'like', 'in', 'many', 'other', 'Czech', 'movies', ',', 'the', 'seven', 'central', 'characters', 'seem', 'to', 'have', 'a', 'pretty', 'difficult', ',', 'dirty', 'life', ';', 'the', 'web', 'indicates', 'that', 'this', 'theme', 'was', 'popular', 'among', 'the', 'U.S.', 'movies', 'in', 'the', 'early', '1990s', '.', 'Their', 'relationships', 'are', 'breaking', 'up', ',', 'combining', ',', 'and', 'recombining', '.', 'Another', 'typical', 'feature', 'of', 'the', 'Czech', 'movies', 'is', 'that', 'neither', 'of', 'the', 'characters', 'is', 'designed', 'to', 'be', 'a', 'universally', 'negative', 'one', 'and', 'neither', 'of', 'them', 'is', 'a', 'permanently', 'positive', 'character', 'either', '.', 'Also', ',', 'you', 'can', 'see', 'how', 'the', 'characters', 'judge', 'the', 'features', 'of', 'others', 'depending', 'on', 'the', 'context', ';', 'that', \"'s\", 'a', 'very', 'realistic', 'feature', 'of', 'the', 'movie', \"'s\", 'psychological', 'analysis.<br', '/><br', '/>Ond&#345;ej', 'is', 'a', 'talented', 'and', 'married', 'young', 'surgeon', 'who', 'has', 'two', 'daughters', '.', 'Nevertheless', ',', 'you', 'learn', 'that', 'he', 'has', 'only', 'studied', 'neurobiology', 'to', 'prove', 'how', 'much', 'he', 'loved', 'another', 'woman', ',', 'Hanka', '.', 'He', 'is', 'so', 'obsessed', 'that', 'he', 'repeatedly', 'dresses', 'up', 'as', 'a', 'plumber', 'to', 'get', 'into', 'Hanka', \"'s\", 'parents', \"'\", 'house', '-', 'a', 'house', 'that', 'he', 'repeatedly', 'burns.<br', '/><br', '/>Meanwhile', ',', 'Hanka', 'has', 'a', 'very', 'mixed', 'relationship', 'with', 'her', 'parents', '.', 'She', 'just', 'decides', '-', 'by', 'tossing', 'up', 'a', 'coin', '-', 'to', 'break', 'up', 'with', 'Petr', 'who', 'works', 'in', 'a', 'private', 'radio', 'station', '.', 'Hanka', 'does', 'not', 'view', 'her', 'parents', \"'\", 'bourgeois', 'life', 'as', 'a', 'good', 'example', 'but', 'seems', 'rather', 'unsuccessful', 'in', 'creating', 'a', 'better', 'environment', '.', 'But', 'she', 'is', 'a', 'very', 'flexible', 'figure', ',', 'as', 'far', 'as', 'the', 'type', 'of', 'her', 'boyfriends', 'go.<br', '/><br', '/>For', 'a', 'while', ',', 'Hanka', 'seems', 'to', 'have', 'serious', 'plans', 'with', 'Jakub', ',', 'an', 'innocent', 'drug', 'addict', 'whose', 'memory', 'seems', 'to', 'be', 'rather', 'devastated', 'by', 'the', 'drugs', '.', 'However', ',', 'the', 'friends', 'from', 'his', 'band', 'inform', 'Jakub', 'that', 'he', 'already', 'has', 'another', 'girlfriend', '.', 'Hanka', 'is', 'disappointed', 'and', 'returns', 'to', 'her', 'parents.<br', '/><br', '/>When', 'Hanka', 'and', 'Petr', 'break', 'up', ',', 'it', 'is', 'organized', 'by', 'Robert', ',', 'a', 'matchmaker', 'who', 'also', 'works', 'for', 'a', 'travel', 'agency', 'where', 'his', 'job', 'is', 'to', 'show', 'the', 'life', 'of', 'ordinary', 'Czech', 'people', 'to', 'Japanese', 'tourists', '.', 'Robert', '-', 'who', 'also', 'provides', 'Jakub', 'with', 'marijuana', '-', 'is', 'never', 'serious', 'about', 'anything', 'and', 'he', 'usually', 'sleeps', 'with', 'many', 'different', 'women', ';', 'eventually', ',', 'his', 'mother', 'dies', 'in', 'a', 'hospital', 'and', 'he', 'has', 'his', 'own', 'ways', 'to', 'deal', 'with', 'the', 'depression.<br', '/><br', '/>Vesna', '(', 'a', 'Slavic', 'word', 'for', '\"', 'Spring', '\"', ')', 'who', 'came', 'to', 'Prague', 'from', 'Macedonia', 'works', 'as', 'a', 'barmaid', '-', 'and', 'you', 'wo', \"n't\", 'learn', 'whether', 'she', 'came', 'to', 'Czechia', 'in', 'order', 'to', 'see', 'her', 'dad', 'or', 'UFOs', '.', 'She', 'seems', 'pretty', 'confused', 'but', 'sometimes', 'helps', 'the', 'other', 'characters', 'from', 'their', 'problems.<br', '/><br', '/>Petr', 'works', 'in', 'the', 'radio', 'station', 'and', 'he', 'is', 'the', 'only', 'one', 'who', 'likes', 'his', 'job', '-', 'a', 'job', 'that', 'he', 'eventually', 'loses', '.', 'He', 'announces', 'to', 'his', 'audience', 'that', 'he', 'broke', 'up', 'with', 'Hanka', '-', 'which', 'is', 'how', 'Ond&#345;ej', 'learns', 'about', 'the', 'news', 'that', 'make', 'him', 'very', 'happy.<br', '/><br', '/>Finally', ',', 'Ond&#345;ej', \"'s\", 'wife', 'Lenka', 'is', 'always', 'ready', 'to', 'forgive', 'him', 'and', 'stabilize', 'their', 'marriage', '-', 'even', 'after', 'Ond&#345;ej', 'asks', 'a', 'magician', 'to', 'make', 'him', 'disappear', 'so', 'that', 'Ond&#345;ej', 'can', 'try', 'to', 'capture', 'Hanka', 'again', '.', '(', 'The', 'magician', 'pays', 'his', 'debt', 'because', 'he', 'is', 'a', 'brother', 'of', 'a', 'victim', 'of', 'an', 'important', 'car', 'accident', '-', 'Jakub', 'and', 'Hanka', 'bring', 'the', 'victim', 'to', 'the', 'hospital', 'and', 'Ond&#345;ej', 'saves', 'his', 'life', '.', ')', 'Lenka', 'also', 'works', 'for', 'the', 'travel', 'agency', '-', 'as', 'a', 'translator', '-', 'and', 'eventually', 'she', 'has', 'to', 'translate', 'some', 'hysterical', 'scenes', 'for', '20', 'or', 'so', 'Japanese', 'tourists', 'who', 'are', 'shooting', 'their', 'movies', 'during', 'Hanka', 'parents', \"'\", 'dinner.<br', '/><br', '/>The', 'seven', 'characters', 'interact', 'in', 'interesting', 'and', 'exciting', 'ways', 'that', 'would', 'be', 'natural', 'if', 'Prague', 'were', 'smaller', 'by', 'four', 'orders', 'of', 'magnitude', '.', 'Given', 'the', 'actual', 'size', 'of', 'the', 'Czech', 'capital', ',', 'it', 'looks', 'a', 'bit', 'unlikely', 'that', 'all', 'these', 'events', 'would', 'take', 'place', 'among', 'seven', 'people', ',', 'but', 'it', 'is', 'fun', '.']\n",
            "['It', 'started', 'out', 'slow', 'after', 'an', 'excellent', 'animated', 'intro', ',', 'as', 'the', 'director', 'had', 'a', 'bunch', 'of', 'characters', 'and', 'school', 'setting', 'to', 'develop', '.', 'Once', 'the', 'bet', 'is', 'on', ',', 'though', ',', 'the', 'movie', 'picks', 'up', 'the', 'pace', 'as', 'it', \"'s\", 'a', 'race', 'against', 'time', 'to', 'see', 'if', 'a', 'certain', 'number', 'of', 'worms', 'can', 'be', 'eaten', 'by', '7', 'pm', '.', 'We', 'had', 'a', 'good', 'opportunity', 'on', 'the', 'way', 'home', 'to', 'discuss', 'some', 'things', 'with', 'our', 'son', ':', 'bullies', ',', 'helping', 'others', ',', 'mind', 'over', 'matter', 'when', 'you', 'do', \"n't\", 'want', 'to', 'do', 'something.<br', '/><br', '/>Of', 'special', 'note', 'is', 'the', 'girl', 'who', 'played', 'Erica', '(', 'Erk', ')', ':', 'Hallie', 'Kate', 'Eisenberg', '.', 'The', 'director', 'kinda', 'sneaks', 'her', 'in', 'unexpectedly', ',', 'and', 'when', 'she', 'is', 'on', '-', 'screen', 'she', 'is', 'captivating', '.', 'She', \"'s\", 'one', 'of', 'those', '\"', 'Hey', ',', 'she', 'looks', 'familiar', '\"', 'faces', ',', 'and', 'then', 'I', 'remembered', 'that', 'she', 'was', 'the', 'little', 'girl', 'that', 'Pepsi', 'featured', 'about', '8', 'years', 'ago', '.', 'She', 'was', 'also', 'in', '\"', 'Paulie', '\"', ',', 'that', 'movie', 'about', 'the', 'parrot', 'who', 'tries', 'to', 'find', 'his', 'way', 'home.<br', '/><br', '/>Ms', '.', 'Eisenberg', 'made', 'many', 'TV', 'and', 'movie', 'appearances', 'in', \"'\", '99', '-', '00', ',', 'but', 'then', 'was', 'not', 'seen', 'much', 'for', 'the', 'next', 'few', 'years', '.', 'She', \"'s\", 'now', '14', 'and', 'is', 'growing', 'up', 'to', 'be', 'a', 'beautiful', 'woman', '.', 'Her', 'smile', 'really', 'warms', 'up', 'the', 'screen', '.', 'If', 'she', 'can', 'get', 'some', 'more', 'good', 'roles', 'she', 'could', 'have', 'as', 'good', 'a', 'career', '(', 'or', 'better', '?', ')', 'than', 'Haley', 'Joel', 'Osment', ',', 'another', 'three', 'named', 'kid', 'actor', ',', 'but', 'hopefully', 'without', 'some', 'of', 'the', 'problems', 'that', 'Osment', 'has', 'been', 'in', 'lately.<br', '/><br', '/>Anywhozitz', ',', 'according', 'to', 'my', '8', 'y.o', '.', 'son', ',', 'who', 'just', 'finished', 'reading', 'the', 'story', ',', 'the', 'film', 'did', 'not', 'seem', 'to', 'follow', 'the', 'book', 'all', 'that', 'well', ',', 'but', 'was', 'entertaining', 'none', 'the', 'less', '.', 'The', 'ending', 'of', 'the', 'film', 'seemed', 'like', 'a', 'big', 'setup', 'for', 'some', 'sequels', '(', 'How', 'to', 'Eat', 'Boiled', 'Slugs', '?', 'Escargot', 'Kid', \"'s\", 'Style', '?', ')', ',', 'which', 'might', 'not', 'be', 'such', 'a', 'bad', 'thing', '.', 'It', 'was', 'nice', 'to', 'take', 'the', 'family', 'to', 'a', 'movie', 'and', 'not', 'have', 'to', 'worry', 'about', 'language', ',', 'violence', 'or', 'sex', 'scenes.<br', '/><br', '/>One', 'other', 'good', 'aspect', 'of', 'the', 'movie', 'was', 'the', 'respect', '/', 'fear', 'engendered', 'by', 'the', 'principal', 'Mr.', 'Burdock', '(', 'Boilerplate', ')', '.', 'Movies', 'nowadays', 'tend', 'to', 'show', 'adult', 'authority', 'figures', 'as', 'buffoons', '.', 'While', 'he', 'has', 'one', 'particular', 'goofy', 'scene', ',', 'he', 'ruled', 'the', 'school', 'with', 'a', 'firm', 'hand', '.', 'It', 'was', 'also', 'nice', 'to', 'see', 'Andrea', 'Martin', 'getting', 'some', 'work', '.']\n",
            "['Dolph', 'Lundgren', 'is', 'back', '!', 'Detention', 'marks', 'Dolphs', 'first', 'film', 'in', 'nearly', '2', 'years', ',', 'and', 'that', 'is', 'following', 'the', 'delayed', 'Hidden', 'Agenda', '.', 'This', 'film', 'still', 'marks', 'an', 'improvement', 'for', 'Dolph', 'over', 'his', 'cheapie', 'trilogy', 'of', 'Jill', 'Rips', ',', 'Agent', 'Red', 'and', 'Stormcatcher', '.', 'However', 'this', 'film', 'is', 'well', 'below', 'the', 'standard', 'of', 'Hidden', 'Agenda', ',', 'which', 'was', 'better', 'in', 'almost', 'every', 'respect', '.', 'What', 'this', 'film', 'does', 'have', 'in', 'it', \"'s\", 'favour', 'from', 'Dolph', \"'s\", 'previous', 'outing', ',', 'is', 'a', 'sense', 'of', 'cheesy', 'fun', '.', 'The', 'film', 'also', 'has', 'a', 'rejuvenated', 'Dolph', 'back', 'in', 'a', 'high', 'action', 'role', ',', 'and', 'it', \"'s\", 'good', 'to', 'see', 'Dolph', 'doing', 'his', 'own', 'stunts', 'again.<br', '/><br', '/>The', 'films', 'story', 'is', 'ludicrous', 'and', 'prime', 'B', '-', 'movie', 'material', '.', 'An', 'ex', '-', 'military', 'man', 'is', 'now', 'a', 'teacher', 'and', 'on', 'his', 'last', 'day', 'of', 'teaching', ',', 'whilst', 'taking', 'a', 'Detention', 'class', ',', 'he', 'runs', 'into', 'some', 'Slovakian', 'bad', 'guys', 'who', 'have', 'taken', 'over', 'the', 'school', 'to', 'use', 'as', 'cover', 'for', 'a', 'big', 'drug', 'deal', '.', 'The', 'film', 'has', 'no', 'originality', 'but', 'in', 'a', 'movie', 'of', 'this', 'type', 'you', 'need', 'to', 'have', 'a', 'sense', 'of', 'fun', 'with', 'all', 'the', 'cliches', '.', 'If', 'you', 'take', 'it', 'too', 'seriously', 'the', 'audience', 'will', 'find', 'little', 'to', 'enjoy', '.', 'Thankfully', 'the', 'filmmakers', 'do', \"n't\", 'take', 'matters', 'too', 'seriously', 'and', 'along', 'with', 'all', 'the', 'action', 'cliches', 'you', 'can', 'think', 'of', 'and', 'the', 'predictability', ',', 'this', 'film', 'has', 'a', 'so', 'bad', 'it', \"'s\", 'enjoyable', 'kind', 'of', 'vibe.<br', '/><br', '/>Where', 'the', 'film', 'is', 'let', 'down', 'is', 'miss', '-', 'using', 'a', 'fairly', 'decent', 'budget', '.', 'The', 'budget', 'of', 'around', '10', 'million', 'has', 'not', 'been', 'well', 'spent', '.', 'It', \"'s\", 'all', 'up', 'on', 'screen', 'with', 'plenty', 'of', 'carnage', 'and', 'big', 'explosions', 'but', 'a', 'lot', 'of', 'the', 'shootouts', 'lack', 'imagination', '.', 'The', 'opening', 'action', 'is', 'okay', 'but', 'after', 'that', 'the', 'good', 'moments', 'become', 'more', 'sparse', '.', 'There', 'are', 'some', 'good', 'moments', '.', 'You', 'have', 'a', 'car', 'careering', 'through', 'school', 'hallways', 'for', 'example', 'and', 'a', 'decent', 'shootout', 'at', 'the', 'beginning', ',', 'with', 'plenty', 'of', 'destruction', '.', 'The', 'rest', 'of', 'the', 'shootouts', 'are', 'fairly', 'mechanical', 'but', 'there', 'is', 'plenty', 'going', 'on', 'onscreen', '.', '<', 'br', '/><br', '/>As', 'for', 'the', 'cast', '.', 'Hidden', 'Agenda', 'boasted', 'the', 'best', 'cast', 'Dolph', 'has', 'worked', 'with', 'in', 'ages', '.', 'There', 'was', 'a', 'good', 'standard', 'of', 'actors', 'for', 'a', 'DTV', 'film', '.', 'This', 'however', 'has', 'problems', '.', 'The', 'actors', 'are', 'on', 'the', 'most', 'part', 'bad', '.', 'The', 'bad', 'guys', 'are', 'terrible', ',', 'but', 'the', 'lead', 'bad', 'guy', 'has', 'a', 'kind', 'of', 'enjoyable', 'cheesiness', 'because', 'Alex', 'Karsis', 'plays', 'it', 'so', 'over', 'the', 'top', 'and', 'without', 'the', 'hint', 'of', 'any', 'menace', 'that', 'you', 'can', 'laugh', 'at', 'the', 'pure', 'badness', '.', 'The', 'teenagers', 'of', 'the', 'piece', 'are', 'actually', 'good', 'but', 'they', 'are', 'playing', 'such', 'cliched', 'characters', '.', 'They', 'all', 'hate', 'authority', ',', 'each', 'other', 'and', 'all', 'have', 'bad', 'attitudes', 'and', 'of', 'course', 'by', 'the', 'end', 'they', 'learn', 'important', 'life', 'lessons', ',', 'but', 'generally', 'they', 'are', 'decent', 'and', 'Chris', 'Collins', 'in', 'particular', 'has', 'a', 'likeability', '.', 'This', 'movie', 'is', 'all', 'about', 'Dolph', 'though', '.', 'While', 'this', 'film', 'is', 'nowhere', 'near', 'his', 'best', ',', 'it', 'is', 'nowhere', 'near', 'his', 'worst', '.', 'It', 'also', 'marks', 'a', 'turning', 'point', 'in', 'his', 'career', '.', 'He', 'is', 'now', 'back', 'in', 'good', 'shape', ',', 'and', 'will', 'be', 'in', 'even', 'better', 'shape', 'in', 'his', 'next', 'film', 'Direct', 'Action', '.', 'Dolph', 'looks', 'enthusiastic', 'here', ',', 'he', 'does', 'all', 'his', 'own', 'stunts', 'and', 'it', 'is', 'good', 'to', 'see', 'him', 'play', 'the', 'typical', 'action', 'man', '(', 'running', 'from', 'explosions', 'in', 'slow', '-', 'mo', ',', 'one', 'liners', ',', 'and', 'handling', 'large', 'weapons', ')', 'again', 'in', 'a', 'movie', 'like', 'his', 'older', 'ones', ',', 'albeit', 'with', 'less', 'flair', 'and', 'imagination', 'than', 'cliched', 'films', 'like', 'Army', 'Of', 'One', '.', 'It', 'is', 'good', 'to', 'see', 'Dolph', 'looking', 'energised', '.', 'His', 'films', 'of', 'the', 'last', '8', 'or', 'so', 'years', 'have', 'seen', 'Dolph', 'looking', 'a', 'little', 'more', 'weary', ',', 'and', 'using', 'doubles', 'a', 'lot', '(', 'he', 'still', 'does', 'all', 'the', 'fights', 'himself', 'though', ')', 'but', 'the', 'new', 'streamlined', 'Dolph', 'seems', 'up', 'for', 'it.<br', '/><br', '/>Overall', 'this', 'is', 'watchable', 'if', 'only', 'for', 'the', 'cheese', 'value', 'and', 'Dolph', 'in', 'prime', 'action', 'man', 'mode', '.', 'There', \"'s\", 'not', 'a', 'single', 'surprise', 'but', 'it', 'has', 'a', 'laughably', 'inept', 'kind', 'of', 'charm', '.', '*', '*']\n",
            "['Page', '3', 'is', 'most', 'definitely', 'a', 'very', 'enthralling', 'and', 'captivating', 'eye', '-', 'opener', 'that', 'very', 'cleverly', 'exposes', 'the', 'hypocrite', 'lifestyles', 'of', 'Mumbai', \"'s\", 'elite', '.', 'From', 'the', 'fake', 'kisses', 'to', 'the', 'plastered', 'smiles', ',', 'Page', '3', 'leaves', 'no', 'stone', 'unturned', 'in', 'revealing', 'the', 'shocking', 'lives', 'of', 'the', 'rich', 'and', 'the', 'famous', '.', 'Backstabbing', ',', 'gossip', ',', 'corruption', ',', 'and', 'scandal', 'lurk', 'in', 'every', 'dark', 'corner', 'in', 'the', 'world', 'of', 'glitz', 'and', 'glam', '.', 'Humanity', 'and', 'generosity', 'are', 'analogous', 'to', 'an', 'oasis', 'in', 'the', 'desert', 'in', 'this', 'world', 'where', 'Social', 'Darwinism', 'is', 'the', 'prevailing', 'mentality', '.', 'Everyone', 'is', 'constantly', 'craving', 'for', 'more', 'money', ',', 'more', 'fame', ',', 'and', 'a', 'higher', 'reputation', ',', 'driving', 'them', 'to', 'do', 'the', 'most', 'shameful', 'things', 'imaginable', 'ranging', 'from', 'signing', 'film', 'contracts', 'at', 'a', 'funeral', 'to', 'child', 'molestation', '.', 'Anything', 'is', 'possible', 'in', 'this', 'metropolis', 'where', 'there', 'is', 'a', 'such', 'a', 'wide', 'gap', 'between', 'the', 'social', 'classes', '.', 'The', 'audience', 'sees', 'the', 'ugliness', 'of', 'both', 'of', 'these', 'classes', 'through', 'the', 'eyes', 'of', 'the', 'protagonist', '.', 'She', 'observes', 'the', 'suffocating', 'atmosphere', 'and', 'the', 'mind', '-', 'boggling', 'frenzy', 'that', 'the', 'socialites', 'live', 'in', '.', 'Bollywood', ',', 'business', 'tycoons', ',', 'politicians', ',', 'and', 'the', 'underworld', 'are', 'all', 'intertwined', 'in', 'a', 'completely', 'convoluted', 'mess', '!', 'Kitne', 'Ajeeb', 'Hai', 'is', 'a', 'nice', 'track', 'as', 'is', 'the', 'peppy', 'Kuan', 'Main', 'Doob', 'Jaongi', '.', 'Terrific', 'film', 'with', 'excellent', 'character', 'development', '!']\n",
            "['A', 'nice', 'Shirely', 'Temple', 'short', '.', 'Child', 'actors', 'screaming', 'their', 'lines', 'seemed', 'to', 'be', 'the', 'norm', 'for', 'that', 'day', 'and', 'time', '.', 'Perhaps', 'being', '\"', 'seen', 'and', 'not', 'heard', '\"', 'needed', 'to', 'be', 'made', 'up', 'for', '.', 'Aside', 'from', 'that', 'this', 'is', 'fun', '.', 'Given', 'the', 'films', 'era', 'there', 'are', 'certain', 'aspects', 'of', 'the', 'thing', ',', 'from', 'a', 'social', 'viewpoint', ',', 'that', 'strike', 'me', 'as', 'both', 'very', 'progressive', 'and', 'liberal', '.', 'I', 'wo', \"n't\", 'go', 'into', 'those', 'here', ',', 'I', \"'d\", 'rather', 'not', 'spoil', 'it', 'for', 'you', 'but', 'let', 'you', 'watch', 'it', 'for', 'yourself', 'and', 'see', 'if', 'you', 'spot', 'those', 'elements', '.', 'As', 'early', 'on', 'as', 'it', 'was', 'its', 'easy', 'to', 'see', 'from', 'this', 'short', 'the', 'fascination', 'that', 'was', 'already', 'developing', 'for', 'Temple', '.', 'That', 'makes', 'it', 'worth', 'watching', 'if', 'you', \"'re\", 'a', 'Temple', 'fan', '.', 'For', 'others', 'its', 'a', 'cool', 'way', 'to', 'kill', 'ten', 'minutes', 'while', 'you', \"'re\", 'waiting', 'for', 'your', 'good', 'night', 'glass', 'of', 'milk', 'to', 'warm', 'up', 'on', 'the', 'stove', '.']\n",
            "['My', 'wife', 'is', 'a', 'teacher', 'and', 'she', 'is', 'very', 'familiar', 'with', 'the', 'story', ',', 'having', 'read', 'it', 'to', 'several', 'of', 'her', 'classes', '.', 'It', 'never', 'sounded', 'all', 'that', 'interesting', 'to', 'me', ',', 'though', ',', 'and', 'I', 'bought', 'the', 'DVD', 'figuring', 'this', 'would', 'be', 'a', 'movie', 'that', 'would', \"n't\", 'really', 'be', 'up', 'my', 'alley.<br', '/><br', '/>The', 'first', 'half', 'of', 'the', 'movie', 'has', 'a', 'lot', 'of', 'set', '-', 'up', 'and', 'I', 'found', 'myself', 'thinking', 'that', 'I', 'was', 'right', '.', 'It', 'starts', 'off', 'a', 'bit', 'slow', 'and', 'I', 'have', 'to', 'admit', 'that', 'I', 'was', 'a', 'little', 'bit', 'bored', '-', 'but', 'curious', 'enough', 'to', 'stay', 'with', 'it', '.', 'Boy', ',', 'am', 'I', 'glad', 'I', 'did', 'because', 'this', 'ended', 'up', 'being', 'a', 'very', 'satisfying', 'and', 'rewarding', 'movie', '.', 'I', 'would', 'most', 'certainly', 'watch', 'this', 'again!<br', '/><br', '/>The', 'casting', 'was', 'very', 'good', '.', 'Since', 'I', 'have', \"n't\", 'read', 'the', 'book', ',', 'I', 'ca', \"n't\", 'vouch', 'for', 'accuracy', ',', 'but', 'I', 'have', 'to', 'say', 'that', 'Jon', 'Voight', 'was', 'truly', 'delightful', '.', 'You', 'liked', 'the', 'characters', 'you', 'were', 'supposed', 'to', 'like', ',', 'hated', 'the', 'ones', 'you', 'were', 'supposed', 'to', 'hate', ',', 'and', 'laughed', 'at', 'the', 'ones', 'that', 'were', 'supposed', 'to', 'be', 'funny.<br', '/><br', '/>I', 'can', 'see', 'how', 'some', 'folks', 'might', 'not', 'like', 'this', 'movie', '.', 'It', 'is', 'tedious', 'at', 'times', ',', 'especially', 'in', 'the', 'beginning', '.', 'All', 'the', 'flashbacks', 'can', 'be', 'distracting', '(', 'though', 'they', 'are', 'essential', 'to', 'the', 'story', ')', '.', 'Once', 'the', 'story', 'starts', 'to', 'come', 'together', 'at', 'the', 'end', ',', 'though', ',', 'I', 'think', 'you', \"'re\", 'paid', 'back', 'in', 'spades', 'for', 'your', 'patience', '.', 'When', 'all', 'is', 'said', 'and', 'done', ',', 'I', 'think', 'this', 'is', 'a', 'very', 'good', 'movie', '-', '8/10.<br', '/><br', '/', '>']\n"
          ],
          "name": "stdout"
        }
      ]
    },
    {
      "cell_type": "code",
      "metadata": {
        "id": "-YNF2E2ZqCNK"
      },
      "source": [
        "for i in range(len(train_data)):\n",
        "  (vars(train_data.examples[i]).get('text').reverse())"
      ],
      "execution_count": 6,
      "outputs": []
    },
    {
      "cell_type": "code",
      "metadata": {
        "colab": {
          "base_uri": "https://localhost:8080/"
        },
        "id": "_yJdyuplwmOn",
        "outputId": "d6bc0b30-a74e-4f59-ed56-423b2b87992e"
      },
      "source": [
        "for i in range(10):\n",
        "  print(vars(train_data.examples[i]).get('text'))\n"
      ],
      "execution_count": 7,
      "outputs": [
        {
          "output_type": "stream",
          "text": [
            "['.', 'age', 'any', 'of', 'person', 'a', 'for', 'meaningful', 'be', 'can', 'which', 'film', 'family', 'powerful', 'a', 'is', 'This', '.', 'lives', 'their', 'of', 'part', 'major', 'a', 'obviously', 'is', 'and', 'terms', 'basic', 'in', 'shown', 'is', 'family', 'the', 'of', 'faith', 'The', '.', 'sugarcoating', 'or', 'sentiment', 'undo', 'without', 'depicted', 'is', 'one', 'loved', 'a', 'of', 'illness', 'devastating', 'a', 'with', 'deal', 'family', 'his', 'and', 'Dan', 'How', '.', 'team', 'real', 'a', 'make', 'to', 'takes', 'it', 'what', 'shows', ',', 'teammates', 'his', 'and', 'coach', \"'s\", 'Dan', 'of', 'determination', 'and', 'commitment', 'The', '.', 'us', 'of', 'all', 'for', 'lesson', 'life', 'a', 'is', 'races', 'losing', 'and', 'winning', 'handle', 'family', 'his', 'of', 'rest', 'the', 'and', 'Dan', 'How', '.', 'throughout', 'evident', 'is', 'members', 'family', 'the', 'of', 'support', 'and', 'love', 'The', '.', 'adulthood', 'full', 'through', 'age', 'young', 'a', 'from', 'life', \"'s\", 'athlete', 'this', 'depicts', 'movie', 'The', '.', 'skater', 'speed', 'Olympic', 'champion', 'a', ',', 'Jansen', 'Dan', 'of', 'biography', 'a', 'is', 'This', '.', 'film', 'family', 'wonderful', 'a', 'is', 'Promise', \"'s\", 'Brother', 'A']\n",
            "['.', 'performances', 'their', 'with', 'it', 'bring', 'to', 'fail', 'never', 'that', 'actresses', 'character', 'underrated', 'Two', '.', 'again', ')', 'Horrors', 'of', 'Shop', 'Little', '(', 'Greene', 'Ellen', 'and', ')', 'Garp', 'to', 'According', 'World', '(', 'Kurtz', 'Swoosie', 'seeing', '/>Loved', '/><br', 'br', '<', '.hmmmm', '\\x85', 'creation', 'Fuller', 'Brian', 'another', 'is', 'which', ',', 'Wonderfalls', 'rent', 'go', 'MUST', 'you', 'Daisies', 'Pushing', 'enjoy', 'you', 'If', '.', '2004', 'from', 'series', 'lived', 'short', ',', 'Great', '!', '!', '!', 'Wonderfalls', '.', 'up', 'it', 'looked', 'just', 'and', 'from', 'him', 'knew', 'I', 'where', 'remember', 'to', 'trying', 'kept', 'I', '.', 'too', 'job', 'great', 'a', 'does', 'Pace', '/>Lee', '/><br', 'Deschanel\".<br', 'Zooey', 'get', 'they', \"n't\", 'did', 'Why', '\"', 'thinking', 'keep', 'I', 'that', 'distraction', 'a', 'of', 'more', \"'s\", 'It', '.', 'her', 'to', 'attached', 'get', 'easily', 'you', 'and', 'lovable', 'and', 'sweet', 'very', 'is', 'character', 'Her', '.', 'job', 'great', 'a', 'does', 'Friel', 'Anna', ',', 'wrong', 'me', 'get', \"n't\", 'Do', '.', 'Zooey', 'see', 'I', 'screen', 'the', 'on', 'her', 'see', 'I', 'time', 'Every', '.', 'Deschanel', 'Zooey', \"'s\", 'man', 'poor', 'a', 'playing', 'is', 'Friel', 'Anna', 'yes', ',', 'forums', 'the', 'in', 'seen', \"'ve\", 'I', '/>As', '/><br', 'is.<br', 'it', 'where', 'know', 'to', 'enough', 'researched', \"n't\", 'have', 'just', 'I', ',', 'influence', 'STRONG', 'a', 'or', ',', 'connection', 'a', 'be', 'to', 'has', 'There', '.', 'Burton', 'Tim', 'scream', 'all', 'sets', 'external', 'the', ',', 'music', 'the', ',', 'narration', 'the', ',', 'cinematography', 'The', '.', 'Factory', 'Chocolate', 'the', '&', 'Charlie', ',', 'Fish', 'Big', ',', 'Sissorhands', 'Edward', '...', 'films', 'better', \"'s\", 'Burton', 'Tim', 'of', 'reeks', 'show', 'The', '.', 'pilot', 'sweet', 'Very']\n",
            "['.', 'enjoys', 'COUNTRY', 'HIGH', 'THE', 'RIDE', '7-something', 'the', 'to', 'compared', ',', 'rating', 'higher', 'a', 'deserve', 'would', '/>Definitely', '/><br', 'best.<br', 'his', 'not', 'if', ',', 'best', 'his', 'of', 'one', 'as', 'shines', 'still', 'HUNT', 'LAST', 'THE', ',', 'one', 'this', 'as', 'career', 'prolific', 'as', 'an', 'in', 'even', 'but', ',', 'genre', 'imaginable', 'every', 'nearly', 'in', 'successful', 'was', 'and', 'movies', 'great', 'really', 'of', 'couple', 'a', 'quite', 'made', 'has', 'craftsmanship!He', 'Master', '.', 'storyteller', 'superb', 'a', 'really', 'is', 'BROOKS', 'director', '/>And', '/><br', 'well.<br', 'very', 'picture', 'the', 'fits', 'soundtrack', 'the', 'even', 'that', 'and', 'chosen', 'cleverly', 'are', 'locations', 'the', 'all', 'that', ',', ')', 'photographed', 'superbly', 'all', 'also', 'are', 'which', ',', 'Mann', 'Anthony', 'by', 'directed', 'ones', 'the', 'from', 'aside', '(', 'shot', 'well', 'that', 'western', 'a', 'seen', 'seldomely', 'have', 'I', ',', 'photograped', 'superbly', 'is', 'HUNT', 'LAST', 'THE', 'that', ',', 'mentioned', 'be', 'also', 'should', 'it', ',', 'dialogue', 'great', 'the', 'and', 'script', 'intelligent', 'the', ',', 'involved', 'everybody', 'of', 'performances', 'top', 'the', 'from', '/>Aside', '/><br', 'br', '<', '.', 'him', 'got', 'buffalo', 'the', 'end', 'the', 'in', 'but', ',', 'buffalo', 'his', 'got', 'has', 'Taylor', 'Mr.', '.', 'again', 'present', 'are', ',', 'began', 'hatred', 'the', 'all', 'when', ',', 'past', 'the', 'from', 'echos', 'tree)and', 'a', 'on', '(', 'sight', 'into', 'comes', 'skin', 'buffalo', 'white', 'a', 'Taylor', 'Mr.', 'from', 'away', 'and', 'on', 'moves', 'camera', 'the', 'When', '.', 'gem', 'this', 'of', 'frames', 'last', 'the', 'and', 'ending', 'its', 'forget', 'to', 'able', 'be', 'will', 'movie', 'this', 'seen', 'ever', 'has', 'who', '/>Nobody', '/><br', 'them.<br', 'of', 'one', 'for', 'out', 'reaches', 'fate', 'until', 'killers', '-', 'buffalo', 'of', 'life', 'the', 'leading', ',', 'Inian', 'young', 'a', 'and', 'man', 'old', 'crippled', 'a', ',', 'Padget', 'Ms.', 'beautiful', 'by', 'surrounded', ',', 'choices', 'other', 'have', 'to', 'seeming', 'not', 'by', 'partly', ',', 'hate', 'by', 'partly', ',', 'together', 'bound', 'men', 'Two', '.', 'one', 'this', 'as', 'depressive', 'and', 'bleak', 'as', 'western', 'any', 'remember', 'not', 'can', 'I', ')', 'genre', 'this', 'like', 'I', '(', 'western', 'of', '100s', 'seen', 'certainly', 'having', 'and', 'hard', 'thinking', '/>Although', '/><br', 'br', '<', '...', 'is', 'still', 'it', 'maybe', 'or', ',', 'time', 'its', 'of', 'ahead', 'decades', '3', 'probably', 'was', 'it', 'Actually', '.', 'earlier', 'years', 'dozen', 'a', 'half', 'even', 'was', 'and', 'movie', 'better', 'the', 'definitely', 'is', 'HUNT', 'LAST', 'known', 'hardly', 'the', 'but', ',', 'west', 'old', 'the', 'in', 'life', 'at', 'look', 'realistic', 'a', 'had', 'which', ',', 'western', 'later', 'best', 'and', 'first', 'the', 'of', 'one', 'as', 'COUNTRY', 'HIGH', 'THE', 'RIDE', \"'s\", 'Peckinpah', 'regard', 'Manr', '!', 'movie', 'seen', 'be', 'to', 'worth', 'well', 'and', 'great', 'a', 'still', 'It', '.', 'time', 'with', 'impact', 'its', 'of', 'anything', 'lost', 'not', 'has', 'it', 'and', ')', 'watch', 'another', 'it', 'gave', 'I', 'ago', 'days', 'few', 'a', 'just', '(', 'then', 'since', 'times', 'more', 'three', 'or', 'two', 'it', 'seen', 'have', 'I', '.', 'time', 'first', 'it', 'saw', 'I', 'since', 'decades', '2', 'than', 'more', 'the', 'in', 'forever', 'me', 'with', 'stayed', 'has', 'movie', 'this', 'but', ',', 'right', 'only', 'not', 'was', 'he', 'say', 'must', 'I', 'and', ',', 'then', 'me', 'to', 'it', 'recommended', 'and', 'highly', 'film', 'this', 'regarded', 'always', 'has', 'Dad', 'My', '.', 'teenager', 'a', 'was', 'I', 'when', ',', ')', 'screen', 'big', 'the', 'on', 'never', ',', 'TV', 'on', '(', 'movie', 'this', 'seen', 'first', 'have', 'I', 'reviewers', 'other', 'most', 'Like']\n",
            "['>', '/', '/><br', 'again.<br', 'it', 'see', 'to', 'want', 'me', 'made', ',', 'fresh', ',', 'lovely', ',', 'brilliant', 'was', 'It', '.', 'scenes', 'sex', ',', 'nude', 'unnecessary', 'any', 'us', 'show', \"n't\", 'did', 'it', 'And', '.', 'comedies', 'romantic', 'typical', 'in', 'seen', 'be', 'can', 'that', 'cliches', 'any', 'avoid', 'to', 'hard', 'tried', 'movie', '/>This', '/><br', 'usual.<br', 'as', 'charming', 'also', 'was', 'nul', 'ha', 'Kim', 'Actress', '!', '!', 'revelation', 'a', 'such', 'was', 'He', '.', 'excellency', 'with', 'job', 'his', 'did', 'woo', 'sang', 'kwan', 'newcomer', 'that', 'surprised', 'pleasantly', 'was', '/>I', '/><br', 'friends.<br', 'great', 'being', 'up', 'end', 'two', 'these', ',', 'quarrells', 'hilarious', 'some', 'Through', '.', 'age', \"'s\", 'character', 'female', 'actually', 'is', 'He', '.', 'guy', 'student', 'school', 'high', 'charistmatic', 'but', 'rich', ',', 'spoiled', 'the', 'teach', 'to', 'forced', 'student', 'university', 'is', 'who', 'character', 'female', '/>Leading', '/><br', 'back.<br', 'faith', 'my', 'brought', 'one', 'this', 'But', '.', 'business', 'movie', 'Korean', 'in', 'faith', 'my', 'lost', 'nearly', \"'d\", 'I', ',', '\"', 'Mafia', 'Marrying', '\"', 'seen', 'having', 'After']\n",
            "['.', 'fun', 'is', 'it', 'but', ',', 'people', 'seven', 'among', 'place', 'take', 'would', 'events', 'these', 'all', 'that', 'unlikely', 'bit', 'a', 'looks', 'it', ',', 'capital', 'Czech', 'the', 'of', 'size', 'actual', 'the', 'Given', '.', 'magnitude', 'of', 'orders', 'four', 'by', 'smaller', 'were', 'Prague', 'if', 'natural', 'be', 'would', 'that', 'ways', 'exciting', 'and', 'interesting', 'in', 'interact', 'characters', 'seven', '/>The', '/><br', 'dinner.<br', \"'\", 'parents', 'Hanka', 'during', 'movies', 'their', 'shooting', 'are', 'who', 'tourists', 'Japanese', 'so', 'or', '20', 'for', 'scenes', 'hysterical', 'some', 'translate', 'to', 'has', 'she', 'eventually', 'and', '-', 'translator', 'a', 'as', '-', 'agency', 'travel', 'the', 'for', 'works', 'also', 'Lenka', ')', '.', 'life', 'his', 'saves', 'Ond&#345;ej', 'and', 'hospital', 'the', 'to', 'victim', 'the', 'bring', 'Hanka', 'and', 'Jakub', '-', 'accident', 'car', 'important', 'an', 'of', 'victim', 'a', 'of', 'brother', 'a', 'is', 'he', 'because', 'debt', 'his', 'pays', 'magician', 'The', '(', '.', 'again', 'Hanka', 'capture', 'to', 'try', 'can', 'Ond&#345;ej', 'that', 'so', 'disappear', 'him', 'make', 'to', 'magician', 'a', 'asks', 'Ond&#345;ej', 'after', 'even', '-', 'marriage', 'their', 'stabilize', 'and', 'him', 'forgive', 'to', 'ready', 'always', 'is', 'Lenka', 'wife', \"'s\", 'Ond&#345;ej', ',', '/>Finally', '/><br', 'happy.<br', 'very', 'him', 'make', 'that', 'news', 'the', 'about', 'learns', 'Ond&#345;ej', 'how', 'is', 'which', '-', 'Hanka', 'with', 'up', 'broke', 'he', 'that', 'audience', 'his', 'to', 'announces', 'He', '.', 'loses', 'eventually', 'he', 'that', 'job', 'a', '-', 'job', 'his', 'likes', 'who', 'one', 'only', 'the', 'is', 'he', 'and', 'station', 'radio', 'the', 'in', 'works', '/>Petr', '/><br', 'problems.<br', 'their', 'from', 'characters', 'other', 'the', 'helps', 'sometimes', 'but', 'confused', 'pretty', 'seems', 'She', '.', 'UFOs', 'or', 'dad', 'her', 'see', 'to', 'order', 'in', 'Czechia', 'to', 'came', 'she', 'whether', 'learn', \"n't\", 'wo', 'you', 'and', '-', 'barmaid', 'a', 'as', 'works', 'Macedonia', 'from', 'Prague', 'to', 'came', 'who', ')', '\"', 'Spring', '\"', 'for', 'word', 'Slavic', 'a', '(', '/>Vesna', '/><br', 'depression.<br', 'the', 'with', 'deal', 'to', 'ways', 'own', 'his', 'has', 'he', 'and', 'hospital', 'a', 'in', 'dies', 'mother', 'his', ',', 'eventually', ';', 'women', 'different', 'many', 'with', 'sleeps', 'usually', 'he', 'and', 'anything', 'about', 'serious', 'never', 'is', '-', 'marijuana', 'with', 'Jakub', 'provides', 'also', 'who', '-', 'Robert', '.', 'tourists', 'Japanese', 'to', 'people', 'Czech', 'ordinary', 'of', 'life', 'the', 'show', 'to', 'is', 'job', 'his', 'where', 'agency', 'travel', 'a', 'for', 'works', 'also', 'who', 'matchmaker', 'a', ',', 'Robert', 'by', 'organized', 'is', 'it', ',', 'up', 'break', 'Petr', 'and', 'Hanka', '/>When', '/><br', 'parents.<br', 'her', 'to', 'returns', 'and', 'disappointed', 'is', 'Hanka', '.', 'girlfriend', 'another', 'has', 'already', 'he', 'that', 'Jakub', 'inform', 'band', 'his', 'from', 'friends', 'the', ',', 'However', '.', 'drugs', 'the', 'by', 'devastated', 'rather', 'be', 'to', 'seems', 'memory', 'whose', 'addict', 'drug', 'innocent', 'an', ',', 'Jakub', 'with', 'plans', 'serious', 'have', 'to', 'seems', 'Hanka', ',', 'while', 'a', '/>For', '/><br', 'go.<br', 'boyfriends', 'her', 'of', 'type', 'the', 'as', 'far', 'as', ',', 'figure', 'flexible', 'very', 'a', 'is', 'she', 'But', '.', 'environment', 'better', 'a', 'creating', 'in', 'unsuccessful', 'rather', 'seems', 'but', 'example', 'good', 'a', 'as', 'life', 'bourgeois', \"'\", 'parents', 'her', 'view', 'not', 'does', 'Hanka', '.', 'station', 'radio', 'private', 'a', 'in', 'works', 'who', 'Petr', 'with', 'up', 'break', 'to', '-', 'coin', 'a', 'up', 'tossing', 'by', '-', 'decides', 'just', 'She', '.', 'parents', 'her', 'with', 'relationship', 'mixed', 'very', 'a', 'has', 'Hanka', ',', '/>Meanwhile', '/><br', 'burns.<br', 'repeatedly', 'he', 'that', 'house', 'a', '-', 'house', \"'\", 'parents', \"'s\", 'Hanka', 'into', 'get', 'to', 'plumber', 'a', 'as', 'up', 'dresses', 'repeatedly', 'he', 'that', 'obsessed', 'so', 'is', 'He', '.', 'Hanka', ',', 'woman', 'another', 'loved', 'he', 'much', 'how', 'prove', 'to', 'neurobiology', 'studied', 'only', 'has', 'he', 'that', 'learn', 'you', ',', 'Nevertheless', '.', 'daughters', 'two', 'has', 'who', 'surgeon', 'young', 'married', 'and', 'talented', 'a', 'is', '/>Ond&#345;ej', '/><br', 'analysis.<br', 'psychological', \"'s\", 'movie', 'the', 'of', 'feature', 'realistic', 'very', 'a', \"'s\", 'that', ';', 'context', 'the', 'on', 'depending', 'others', 'of', 'features', 'the', 'judge', 'characters', 'the', 'how', 'see', 'can', 'you', ',', 'Also', '.', 'either', 'character', 'positive', 'permanently', 'a', 'is', 'them', 'of', 'neither', 'and', 'one', 'negative', 'universally', 'a', 'be', 'to', 'designed', 'is', 'characters', 'the', 'of', 'neither', 'that', 'is', 'movies', 'Czech', 'the', 'of', 'feature', 'typical', 'Another', '.', 'recombining', 'and', ',', 'combining', ',', 'up', 'breaking', 'are', 'relationships', 'Their', '.', '1990s', 'early', 'the', 'in', 'movies', 'U.S.', 'the', 'among', 'popular', 'was', 'theme', 'this', 'that', 'indicates', 'web', 'the', ';', 'life', 'dirty', ',', 'difficult', 'pretty', 'a', 'have', 'to', 'seem', 'characters', 'central', 'seven', 'the', ',', 'movies', 'Czech', 'other', 'many', 'in', 'like', '/>Much', '/><br', 'good.<br', 'pretty', 'was', 'it', 'and', ')', '2000', ',', 'Loners', '(', 'Samotá&#345;i', 'saw', 'I', 'time', 'first', 'the', 'was', 'It', '.', ')', 'VES', '(', 'Studies', 'Environmental', 'and', 'Visual', 'of', 'Department', 'the', 'in', ')', 'subtitles', 'English', 'with', '(', 'movie', 'Czech', 'a', 'of', 'screening', 'to', 'us', 'invited', ',', 'Czech', 'speaks', 'who', 'girl', 'Chinese', 'a', ',', 'Ying']\n",
            "['.', 'work', 'some', 'getting', 'Martin', 'Andrea', 'see', 'to', 'nice', 'also', 'was', 'It', '.', 'hand', 'firm', 'a', 'with', 'school', 'the', 'ruled', 'he', ',', 'scene', 'goofy', 'particular', 'one', 'has', 'he', 'While', '.', 'buffoons', 'as', 'figures', 'authority', 'adult', 'show', 'to', 'tend', 'nowadays', 'Movies', '.', ')', 'Boilerplate', '(', 'Burdock', 'Mr.', 'principal', 'the', 'by', 'engendered', 'fear', '/', 'respect', 'the', 'was', 'movie', 'the', 'of', 'aspect', 'good', 'other', '/>One', '/><br', 'scenes.<br', 'sex', 'or', 'violence', ',', 'language', 'about', 'worry', 'to', 'have', 'not', 'and', 'movie', 'a', 'to', 'family', 'the', 'take', 'to', 'nice', 'was', 'It', '.', 'thing', 'bad', 'a', 'such', 'be', 'not', 'might', 'which', ',', ')', '?', 'Style', \"'s\", 'Kid', 'Escargot', '?', 'Slugs', 'Boiled', 'Eat', 'to', 'How', '(', 'sequels', 'some', 'for', 'setup', 'big', 'a', 'like', 'seemed', 'film', 'the', 'of', 'ending', 'The', '.', 'less', 'the', 'none', 'entertaining', 'was', 'but', ',', 'well', 'that', 'all', 'book', 'the', 'follow', 'to', 'seem', 'not', 'did', 'film', 'the', ',', 'story', 'the', 'reading', 'finished', 'just', 'who', ',', 'son', '.', 'y.o', '8', 'my', 'to', 'according', ',', '/>Anywhozitz', '/><br', 'lately.<br', 'in', 'been', 'has', 'Osment', 'that', 'problems', 'the', 'of', 'some', 'without', 'hopefully', 'but', ',', 'actor', 'kid', 'named', 'three', 'another', ',', 'Osment', 'Joel', 'Haley', 'than', ')', '?', 'better', 'or', '(', 'career', 'a', 'good', 'as', 'have', 'could', 'she', 'roles', 'good', 'more', 'some', 'get', 'can', 'she', 'If', '.', 'screen', 'the', 'up', 'warms', 'really', 'smile', 'Her', '.', 'woman', 'beautiful', 'a', 'be', 'to', 'up', 'growing', 'is', 'and', '14', 'now', \"'s\", 'She', '.', 'years', 'few', 'next', 'the', 'for', 'much', 'seen', 'not', 'was', 'then', 'but', ',', '00', '-', '99', \"'\", 'in', 'appearances', 'movie', 'and', 'TV', 'many', 'made', 'Eisenberg', '.', '/>Ms', '/><br', 'home.<br', 'way', 'his', 'find', 'to', 'tries', 'who', 'parrot', 'the', 'about', 'movie', 'that', ',', '\"', 'Paulie', '\"', 'in', 'also', 'was', 'She', '.', 'ago', 'years', '8', 'about', 'featured', 'Pepsi', 'that', 'girl', 'little', 'the', 'was', 'she', 'that', 'remembered', 'I', 'then', 'and', ',', 'faces', '\"', 'familiar', 'looks', 'she', ',', 'Hey', '\"', 'those', 'of', 'one', \"'s\", 'She', '.', 'captivating', 'is', 'she', 'screen', '-', 'on', 'is', 'she', 'when', 'and', ',', 'unexpectedly', 'in', 'her', 'sneaks', 'kinda', 'director', 'The', '.', 'Eisenberg', 'Kate', 'Hallie', ':', ')', 'Erk', '(', 'Erica', 'played', 'who', 'girl', 'the', 'is', 'note', 'special', '/>Of', '/><br', 'something.<br', 'do', 'to', 'want', \"n't\", 'do', 'you', 'when', 'matter', 'over', 'mind', ',', 'others', 'helping', ',', 'bullies', ':', 'son', 'our', 'with', 'things', 'some', 'discuss', 'to', 'home', 'way', 'the', 'on', 'opportunity', 'good', 'a', 'had', 'We', '.', 'pm', '7', 'by', 'eaten', 'be', 'can', 'worms', 'of', 'number', 'certain', 'a', 'if', 'see', 'to', 'time', 'against', 'race', 'a', \"'s\", 'it', 'as', 'pace', 'the', 'up', 'picks', 'movie', 'the', ',', 'though', ',', 'on', 'is', 'bet', 'the', 'Once', '.', 'develop', 'to', 'setting', 'school', 'and', 'characters', 'of', 'bunch', 'a', 'had', 'director', 'the', 'as', ',', 'intro', 'animated', 'excellent', 'an', 'after', 'slow', 'out', 'started', 'It']\n",
            "['*', '*', '.', 'charm', 'of', 'kind', 'inept', 'laughably', 'a', 'has', 'it', 'but', 'surprise', 'single', 'a', 'not', \"'s\", 'There', '.', 'mode', 'man', 'action', 'prime', 'in', 'Dolph', 'and', 'value', 'cheese', 'the', 'for', 'only', 'if', 'watchable', 'is', 'this', '/>Overall', '/><br', 'it.<br', 'for', 'up', 'seems', 'Dolph', 'streamlined', 'new', 'the', 'but', ')', 'though', 'himself', 'fights', 'the', 'all', 'does', 'still', 'he', '(', 'lot', 'a', 'doubles', 'using', 'and', ',', 'weary', 'more', 'little', 'a', 'looking', 'Dolph', 'seen', 'have', 'years', 'so', 'or', '8', 'last', 'the', 'of', 'films', 'His', '.', 'energised', 'looking', 'Dolph', 'see', 'to', 'good', 'is', 'It', '.', 'One', 'Of', 'Army', 'like', 'films', 'cliched', 'than', 'imagination', 'and', 'flair', 'less', 'with', 'albeit', ',', 'ones', 'older', 'his', 'like', 'movie', 'a', 'in', 'again', ')', 'weapons', 'large', 'handling', 'and', ',', 'liners', 'one', ',', 'mo', '-', 'slow', 'in', 'explosions', 'from', 'running', '(', 'man', 'action', 'typical', 'the', 'play', 'him', 'see', 'to', 'good', 'is', 'it', 'and', 'stunts', 'own', 'his', 'all', 'does', 'he', ',', 'here', 'enthusiastic', 'looks', 'Dolph', '.', 'Action', 'Direct', 'film', 'next', 'his', 'in', 'shape', 'better', 'even', 'in', 'be', 'will', 'and', ',', 'shape', 'good', 'in', 'back', 'now', 'is', 'He', '.', 'career', 'his', 'in', 'point', 'turning', 'a', 'marks', 'also', 'It', '.', 'worst', 'his', 'near', 'nowhere', 'is', 'it', ',', 'best', 'his', 'near', 'nowhere', 'is', 'film', 'this', 'While', '.', 'though', 'Dolph', 'about', 'all', 'is', 'movie', 'This', '.', 'likeability', 'a', 'has', 'particular', 'in', 'Collins', 'Chris', 'and', 'decent', 'are', 'they', 'generally', 'but', ',', 'lessons', 'life', 'important', 'learn', 'they', 'end', 'the', 'by', 'course', 'of', 'and', 'attitudes', 'bad', 'have', 'all', 'and', 'other', 'each', ',', 'authority', 'hate', 'all', 'They', '.', 'characters', 'cliched', 'such', 'playing', 'are', 'they', 'but', 'good', 'actually', 'are', 'piece', 'the', 'of', 'teenagers', 'The', '.', 'badness', 'pure', 'the', 'at', 'laugh', 'can', 'you', 'that', 'menace', 'any', 'of', 'hint', 'the', 'without', 'and', 'top', 'the', 'over', 'so', 'it', 'plays', 'Karsis', 'Alex', 'because', 'cheesiness', 'enjoyable', 'of', 'kind', 'a', 'has', 'guy', 'bad', 'lead', 'the', 'but', ',', 'terrible', 'are', 'guys', 'bad', 'The', '.', 'bad', 'part', 'most', 'the', 'on', 'are', 'actors', 'The', '.', 'problems', 'has', 'however', 'This', '.', 'film', 'DTV', 'a', 'for', 'actors', 'of', 'standard', 'good', 'a', 'was', 'There', '.', 'ages', 'in', 'with', 'worked', 'has', 'Dolph', 'cast', 'best', 'the', 'boasted', 'Agenda', 'Hidden', '.', 'cast', 'the', 'for', '/>As', '/><br', 'br', '<', '.', 'onscreen', 'on', 'going', 'plenty', 'is', 'there', 'but', 'mechanical', 'fairly', 'are', 'shootouts', 'the', 'of', 'rest', 'The', '.', 'destruction', 'of', 'plenty', 'with', ',', 'beginning', 'the', 'at', 'shootout', 'decent', 'a', 'and', 'example', 'for', 'hallways', 'school', 'through', 'careering', 'car', 'a', 'have', 'You', '.', 'moments', 'good', 'some', 'are', 'There', '.', 'sparse', 'more', 'become', 'moments', 'good', 'the', 'that', 'after', 'but', 'okay', 'is', 'action', 'opening', 'The', '.', 'imagination', 'lack', 'shootouts', 'the', 'of', 'lot', 'a', 'but', 'explosions', 'big', 'and', 'carnage', 'of', 'plenty', 'with', 'screen', 'on', 'up', 'all', \"'s\", 'It', '.', 'spent', 'well', 'been', 'not', 'has', 'million', '10', 'around', 'of', 'budget', 'The', '.', 'budget', 'decent', 'fairly', 'a', 'using', '-', 'miss', 'is', 'down', 'let', 'is', 'film', 'the', '/>Where', '/><br', 'vibe.<br', 'of', 'kind', 'enjoyable', \"'s\", 'it', 'bad', 'so', 'a', 'has', 'film', 'this', ',', 'predictability', 'the', 'and', 'of', 'think', 'can', 'you', 'cliches', 'action', 'the', 'all', 'with', 'along', 'and', 'seriously', 'too', 'matters', 'take', \"n't\", 'do', 'filmmakers', 'the', 'Thankfully', '.', 'enjoy', 'to', 'little', 'find', 'will', 'audience', 'the', 'seriously', 'too', 'it', 'take', 'you', 'If', '.', 'cliches', 'the', 'all', 'with', 'fun', 'of', 'sense', 'a', 'have', 'to', 'need', 'you', 'type', 'this', 'of', 'movie', 'a', 'in', 'but', 'originality', 'no', 'has', 'film', 'The', '.', 'deal', 'drug', 'big', 'a', 'for', 'cover', 'as', 'use', 'to', 'school', 'the', 'over', 'taken', 'have', 'who', 'guys', 'bad', 'Slovakian', 'some', 'into', 'runs', 'he', ',', 'class', 'Detention', 'a', 'taking', 'whilst', ',', 'teaching', 'of', 'day', 'last', 'his', 'on', 'and', 'teacher', 'a', 'now', 'is', 'man', 'military', '-', 'ex', 'An', '.', 'material', 'movie', '-', 'B', 'prime', 'and', 'ludicrous', 'is', 'story', 'films', '/>The', '/><br', 'again.<br', 'stunts', 'own', 'his', 'doing', 'Dolph', 'see', 'to', 'good', \"'s\", 'it', 'and', ',', 'role', 'action', 'high', 'a', 'in', 'back', 'Dolph', 'rejuvenated', 'a', 'has', 'also', 'film', 'The', '.', 'fun', 'cheesy', 'of', 'sense', 'a', 'is', ',', 'outing', 'previous', \"'s\", 'Dolph', 'from', 'favour', \"'s\", 'it', 'in', 'have', 'does', 'film', 'this', 'What', '.', 'respect', 'every', 'almost', 'in', 'better', 'was', 'which', ',', 'Agenda', 'Hidden', 'of', 'standard', 'the', 'below', 'well', 'is', 'film', 'this', 'However', '.', 'Stormcatcher', 'and', 'Red', 'Agent', ',', 'Rips', 'Jill', 'of', 'trilogy', 'cheapie', 'his', 'over', 'Dolph', 'for', 'improvement', 'an', 'marks', 'still', 'film', 'This', '.', 'Agenda', 'Hidden', 'delayed', 'the', 'following', 'is', 'that', 'and', ',', 'years', '2', 'nearly', 'in', 'film', 'first', 'Dolphs', 'marks', 'Detention', '!', 'back', 'is', 'Lundgren', 'Dolph']\n",
            "['!', 'development', 'character', 'excellent', 'with', 'film', 'Terrific', '.', 'Jaongi', 'Doob', 'Main', 'Kuan', 'peppy', 'the', 'is', 'as', 'track', 'nice', 'a', 'is', 'Hai', 'Ajeeb', 'Kitne', '!', 'mess', 'convoluted', 'completely', 'a', 'in', 'intertwined', 'all', 'are', 'underworld', 'the', 'and', ',', 'politicians', ',', 'tycoons', 'business', ',', 'Bollywood', '.', 'in', 'live', 'socialites', 'the', 'that', 'frenzy', 'boggling', '-', 'mind', 'the', 'and', 'atmosphere', 'suffocating', 'the', 'observes', 'She', '.', 'protagonist', 'the', 'of', 'eyes', 'the', 'through', 'classes', 'these', 'of', 'both', 'of', 'ugliness', 'the', 'sees', 'audience', 'The', '.', 'classes', 'social', 'the', 'between', 'gap', 'wide', 'a', 'such', 'a', 'is', 'there', 'where', 'metropolis', 'this', 'in', 'possible', 'is', 'Anything', '.', 'molestation', 'child', 'to', 'funeral', 'a', 'at', 'contracts', 'film', 'signing', 'from', 'ranging', 'imaginable', 'things', 'shameful', 'most', 'the', 'do', 'to', 'them', 'driving', ',', 'reputation', 'higher', 'a', 'and', ',', 'fame', 'more', ',', 'money', 'more', 'for', 'craving', 'constantly', 'is', 'Everyone', '.', 'mentality', 'prevailing', 'the', 'is', 'Darwinism', 'Social', 'where', 'world', 'this', 'in', 'desert', 'the', 'in', 'oasis', 'an', 'to', 'analogous', 'are', 'generosity', 'and', 'Humanity', '.', 'glam', 'and', 'glitz', 'of', 'world', 'the', 'in', 'corner', 'dark', 'every', 'in', 'lurk', 'scandal', 'and', ',', 'corruption', ',', 'gossip', ',', 'Backstabbing', '.', 'famous', 'the', 'and', 'rich', 'the', 'of', 'lives', 'shocking', 'the', 'revealing', 'in', 'unturned', 'stone', 'no', 'leaves', '3', 'Page', ',', 'smiles', 'plastered', 'the', 'to', 'kisses', 'fake', 'the', 'From', '.', 'elite', \"'s\", 'Mumbai', 'of', 'lifestyles', 'hypocrite', 'the', 'exposes', 'cleverly', 'very', 'that', 'opener', '-', 'eye', 'captivating', 'and', 'enthralling', 'very', 'a', 'definitely', 'most', 'is', '3', 'Page']\n",
            "['.', 'stove', 'the', 'on', 'up', 'warm', 'to', 'milk', 'of', 'glass', 'night', 'good', 'your', 'for', 'waiting', \"'re\", 'you', 'while', 'minutes', 'ten', 'kill', 'to', 'way', 'cool', 'a', 'its', 'others', 'For', '.', 'fan', 'Temple', 'a', \"'re\", 'you', 'if', 'watching', 'worth', 'it', 'makes', 'That', '.', 'Temple', 'for', 'developing', 'already', 'was', 'that', 'fascination', 'the', 'short', 'this', 'from', 'see', 'to', 'easy', 'its', 'was', 'it', 'as', 'on', 'early', 'As', '.', 'elements', 'those', 'spot', 'you', 'if', 'see', 'and', 'yourself', 'for', 'it', 'watch', 'you', 'let', 'but', 'you', 'for', 'it', 'spoil', 'not', 'rather', \"'d\", 'I', ',', 'here', 'those', 'into', 'go', \"n't\", 'wo', 'I', '.', 'liberal', 'and', 'progressive', 'very', 'both', 'as', 'me', 'strike', 'that', ',', 'viewpoint', 'social', 'a', 'from', ',', 'thing', 'the', 'of', 'aspects', 'certain', 'are', 'there', 'era', 'films', 'the', 'Given', '.', 'fun', 'is', 'this', 'that', 'from', 'Aside', '.', 'for', 'up', 'made', 'be', 'to', 'needed', '\"', 'heard', 'not', 'and', 'seen', '\"', 'being', 'Perhaps', '.', 'time', 'and', 'day', 'that', 'for', 'norm', 'the', 'be', 'to', 'seemed', 'lines', 'their', 'screaming', 'actors', 'Child', '.', 'short', 'Temple', 'Shirely', 'nice', 'A']\n",
            "['>', '/', '/><br', '8/10.<br', '-', 'movie', 'good', 'very', 'a', 'is', 'this', 'think', 'I', ',', 'done', 'and', 'said', 'is', 'all', 'When', '.', 'patience', 'your', 'for', 'spades', 'in', 'back', 'paid', \"'re\", 'you', 'think', 'I', ',', 'though', ',', 'end', 'the', 'at', 'together', 'come', 'to', 'starts', 'story', 'the', 'Once', '.', ')', 'story', 'the', 'to', 'essential', 'are', 'they', 'though', '(', 'distracting', 'be', 'can', 'flashbacks', 'the', 'All', '.', 'beginning', 'the', 'in', 'especially', ',', 'times', 'at', 'tedious', 'is', 'It', '.', 'movie', 'this', 'like', 'not', 'might', 'folks', 'some', 'how', 'see', 'can', '/>I', '/><br', 'funny.<br', 'be', 'to', 'supposed', 'were', 'that', 'ones', 'the', 'at', 'laughed', 'and', ',', 'hate', 'to', 'supposed', 'were', 'you', 'ones', 'the', 'hated', ',', 'like', 'to', 'supposed', 'were', 'you', 'characters', 'the', 'liked', 'You', '.', 'delightful', 'truly', 'was', 'Voight', 'Jon', 'that', 'say', 'to', 'have', 'I', 'but', ',', 'accuracy', 'for', 'vouch', \"n't\", 'ca', 'I', ',', 'book', 'the', 'read', \"n't\", 'have', 'I', 'Since', '.', 'good', 'very', 'was', 'casting', '/>The', '/><br', 'again!<br', 'this', 'watch', 'certainly', 'most', 'would', 'I', '.', 'movie', 'rewarding', 'and', 'satisfying', 'very', 'a', 'being', 'up', 'ended', 'this', 'because', 'did', 'I', 'glad', 'I', 'am', ',', 'Boy', '.', 'it', 'with', 'stay', 'to', 'enough', 'curious', 'but', '-', 'bored', 'bit', 'little', 'a', 'was', 'I', 'that', 'admit', 'to', 'have', 'I', 'and', 'slow', 'bit', 'a', 'off', 'starts', 'It', '.', 'right', 'was', 'I', 'that', 'thinking', 'myself', 'found', 'I', 'and', 'up', '-', 'set', 'of', 'lot', 'a', 'has', 'movie', 'the', 'of', 'half', 'first', '/>The', '/><br', 'alley.<br', 'my', 'up', 'be', 'really', \"n't\", 'would', 'that', 'movie', 'a', 'be', 'would', 'this', 'figuring', 'DVD', 'the', 'bought', 'I', 'and', ',', 'though', ',', 'me', 'to', 'interesting', 'that', 'all', 'sounded', 'never', 'It', '.', 'classes', 'her', 'of', 'several', 'to', 'it', 'read', 'having', ',', 'story', 'the', 'with', 'familiar', 'very', 'is', 'she', 'and', 'teacher', 'a', 'is', 'wife', 'My']\n"
          ],
          "name": "stdout"
        }
      ]
    },
    {
      "cell_type": "code",
      "metadata": {
        "id": "Xls6fIf5APHW"
      },
      "source": [
        "import random\n",
        "\n",
        "train_data, valid_data = train_data.split(random_state = random.seed(SEED))"
      ],
      "execution_count": 8,
      "outputs": []
    },
    {
      "cell_type": "code",
      "metadata": {
        "id": "y0zqKL1YAZoN"
      },
      "source": [
        "\n",
        "MAX_VOCAB_SIZE = 25_000\n",
        "\n",
        "TEXT.build_vocab(train_data, \n",
        "                 max_size = MAX_VOCAB_SIZE, \n",
        "                 vectors = \"glove.6B.100d\", \n",
        "                 unk_init = torch.Tensor.normal_)\n",
        "\n",
        "LABEL.build_vocab(train_data)\n"
      ],
      "execution_count": 9,
      "outputs": []
    },
    {
      "cell_type": "code",
      "metadata": {
        "id": "0iLI51CuAah5"
      },
      "source": [
        "\n",
        "BATCH_SIZE = 64\n",
        "\n",
        "device = torch.device('cuda' if torch.cuda.is_available() else 'cpu')\n",
        "\n",
        "train_iterator, valid_iterator, test_iterator = data.BucketIterator.splits(\n",
        "    (train_data, valid_data, test_data), \n",
        "    batch_size = BATCH_SIZE,\n",
        "    sort_within_batch = True,\n",
        "    device = device)"
      ],
      "execution_count": 10,
      "outputs": []
    },
    {
      "cell_type": "code",
      "metadata": {
        "id": "xra9ZUapBnAA"
      },
      "source": [
        "import torch.nn as nn\n",
        "\n",
        "class RNN(nn.Module):\n",
        "    def __init__(self, vocab_size, embedding_dim, hidden_dim, output_dim, n_layers, \n",
        "                 bidirectional, dropout, pad_idx):\n",
        "        \n",
        "        super().__init__()\n",
        "        \n",
        "        self.embedding = nn.Embedding(vocab_size, embedding_dim, padding_idx = pad_idx)\n",
        "        \n",
        "        self.rnn = nn.LSTM(embedding_dim, \n",
        "                           hidden_dim, \n",
        "                           num_layers=n_layers, \n",
        "                           bidirectional=bidirectional, \n",
        "                           dropout=dropout)\n",
        "        \n",
        "        self.fc = nn.Linear(hidden_dim * 2, output_dim)\n",
        "        \n",
        "        self.dropout = nn.Dropout(dropout)\n",
        "        \n",
        "    def forward(self, text, text_lengths):\n",
        "       \n",
        "        #text = [sent len, batch size]\n",
        "        #print(f'text:{text}')\n",
        "        embedded = self.dropout(self.embedding(text))\n",
        "        \n",
        "        #embedded = [sent len, batch size, emb dim]\n",
        "        \n",
        "        #pack sequence\n",
        "        packed_embedded = nn.utils.rnn.pack_padded_sequence(embedded, text_lengths.cpu())\n",
        "        \n",
        "        packed_output, (hidden, cell) = self.rnn(packed_embedded)\n",
        "        \n",
        "        #unpack sequence\n",
        "        output, output_lengths = nn.utils.rnn.pad_packed_sequence(packed_output)\n",
        "\n",
        "        #output = [sent len, batch size, hid dim * num directions]\n",
        "        #output over padding tokens are zero tensors\n",
        "        \n",
        "        #hidden = [num layers * num directions, batch size, hid dim]\n",
        "        #cell = [num layers * num directions, batch size, hid dim]\n",
        "        \n",
        "        #concat the final forward (hidden[-2,:,:]) and backward (hidden[-1,:,:]) hidden layers\n",
        "        #and apply dropout\n",
        "        \n",
        "        hidden = self.dropout(torch.cat((hidden[-2,:,:], hidden[-1,:,:]), dim = 1))\n",
        "                \n",
        "        #hidden = [batch size, hid dim * num directions]\n",
        "            \n",
        "        return self.fc(hidden)"
      ],
      "execution_count": 11,
      "outputs": []
    },
    {
      "cell_type": "code",
      "metadata": {
        "id": "YPUX1kzNDfwl"
      },
      "source": [
        "\n",
        "INPUT_DIM = len(TEXT.vocab)\n",
        "EMBEDDING_DIM = 100\n",
        "HIDDEN_DIM = 256\n",
        "OUTPUT_DIM = 1\n",
        "N_LAYERS = 3\n",
        "BIDIRECTIONAL = True\n",
        "DROPOUT = 0.2\n",
        "PAD_IDX = TEXT.vocab.stoi[TEXT.pad_token]\n",
        "\n",
        "model = RNN(INPUT_DIM, \n",
        "            EMBEDDING_DIM, \n",
        "            HIDDEN_DIM, \n",
        "            OUTPUT_DIM, \n",
        "            N_LAYERS, \n",
        "            BIDIRECTIONAL, \n",
        "            DROPOUT, \n",
        "            PAD_IDX)"
      ],
      "execution_count": 12,
      "outputs": []
    },
    {
      "cell_type": "code",
      "metadata": {
        "colab": {
          "base_uri": "https://localhost:8080/"
        },
        "id": "BDNx2bT2FOHU",
        "outputId": "0201eed5-f5ca-4eb0-8e04-b6f5c292e0e5"
      },
      "source": [
        "def count_parameters(model):\n",
        "    return sum(p.numel() for p in model.parameters() if p.requires_grad)\n",
        "\n",
        "print(f'The model has {count_parameters(model):,} trainable parameters')"
      ],
      "execution_count": 13,
      "outputs": [
        {
          "output_type": "stream",
          "text": [
            "The model has 6,387,817 trainable parameters\n"
          ],
          "name": "stdout"
        }
      ]
    },
    {
      "cell_type": "code",
      "metadata": {
        "colab": {
          "base_uri": "https://localhost:8080/"
        },
        "id": "6k47eYDTFWa1",
        "outputId": "bd83e02c-efde-49d5-ed81-e93e09469818"
      },
      "source": [
        "pretrained_embeddings = TEXT.vocab.vectors\n",
        "\n",
        "print(pretrained_embeddings.shape)"
      ],
      "execution_count": 14,
      "outputs": [
        {
          "output_type": "stream",
          "text": [
            "torch.Size([25002, 100])\n"
          ],
          "name": "stdout"
        }
      ]
    },
    {
      "cell_type": "code",
      "metadata": {
        "colab": {
          "base_uri": "https://localhost:8080/"
        },
        "id": "jXISWH_VH59S",
        "outputId": "e7cec3f4-332b-41e6-e1f3-3ebfaada7d0a"
      },
      "source": [
        "model.embedding.weight.data.copy_(pretrained_embeddings)\n"
      ],
      "execution_count": 15,
      "outputs": [
        {
          "output_type": "execute_result",
          "data": {
            "text/plain": [
              "tensor([[-0.1117, -0.4966,  0.1631,  ...,  1.2647, -0.2753, -0.1325],\n",
              "        [-0.8555, -0.7208,  1.3755,  ...,  0.0825, -1.1314,  0.3997],\n",
              "        [-0.0382, -0.2449,  0.7281,  ..., -0.1459,  0.8278,  0.2706],\n",
              "        ...,\n",
              "        [-0.3970,  0.4024,  1.0612,  ..., -0.0136, -0.3363,  0.6442],\n",
              "        [-0.5197,  1.0395,  0.2092,  ..., -0.8857, -0.2294,  0.1244],\n",
              "        [ 0.0057, -0.0707, -0.0804,  ..., -0.3292, -0.0130,  0.0716]])"
            ]
          },
          "metadata": {
            "tags": []
          },
          "execution_count": 15
        }
      ]
    },
    {
      "cell_type": "code",
      "metadata": {
        "colab": {
          "base_uri": "https://localhost:8080/"
        },
        "id": "WSSR1qCuH-2P",
        "outputId": "63c6abef-4a5c-4bd1-9eba-d41953ed6b7c"
      },
      "source": [
        "UNK_IDX = TEXT.vocab.stoi[TEXT.unk_token]\n",
        "\n",
        "model.embedding.weight.data[UNK_IDX] = torch.zeros(EMBEDDING_DIM)\n",
        "model.embedding.weight.data[PAD_IDX] = torch.zeros(EMBEDDING_DIM)\n",
        "\n",
        "print(model.embedding.weight.data)\n"
      ],
      "execution_count": 16,
      "outputs": [
        {
          "output_type": "stream",
          "text": [
            "tensor([[ 0.0000,  0.0000,  0.0000,  ...,  0.0000,  0.0000,  0.0000],\n",
            "        [ 0.0000,  0.0000,  0.0000,  ...,  0.0000,  0.0000,  0.0000],\n",
            "        [-0.0382, -0.2449,  0.7281,  ..., -0.1459,  0.8278,  0.2706],\n",
            "        ...,\n",
            "        [-0.3970,  0.4024,  1.0612,  ..., -0.0136, -0.3363,  0.6442],\n",
            "        [-0.5197,  1.0395,  0.2092,  ..., -0.8857, -0.2294,  0.1244],\n",
            "        [ 0.0057, -0.0707, -0.0804,  ..., -0.3292, -0.0130,  0.0716]])\n"
          ],
          "name": "stdout"
        }
      ]
    },
    {
      "cell_type": "code",
      "metadata": {
        "id": "DoJOZPNBIBgC"
      },
      "source": [
        "import torch.optim as optim\n",
        "\n",
        "optimizer = optim.Adam(model.parameters())"
      ],
      "execution_count": 17,
      "outputs": []
    },
    {
      "cell_type": "code",
      "metadata": {
        "id": "-O3KyHDXIF1W"
      },
      "source": [
        "criterion = nn.BCEWithLogitsLoss()\n",
        "\n",
        "model = model.to(device)\n",
        "criterion = criterion.to(device)"
      ],
      "execution_count": 18,
      "outputs": []
    },
    {
      "cell_type": "code",
      "metadata": {
        "id": "CKs7reN-IJ20"
      },
      "source": [
        "def binary_accuracy(preds, y):\n",
        "    \"\"\"\n",
        "    Returns accuracy per batch, i.e. if you get 8/10 right, this returns 0.8, NOT 8\n",
        "    \"\"\"\n",
        "\n",
        "    #round predictions to the closest integer\n",
        "    rounded_preds = torch.round(torch.sigmoid(preds))\n",
        "    correct = (rounded_preds == y).float() #convert into float for division \n",
        "    acc = correct.sum() / len(correct)\n",
        "    return acc"
      ],
      "execution_count": 19,
      "outputs": []
    },
    {
      "cell_type": "code",
      "metadata": {
        "id": "OerHSOPvIPZK"
      },
      "source": [
        "def train(model, iterator, optimizer, criterion):\n",
        "    \n",
        "    epoch_loss = 0\n",
        "    epoch_acc = 0\n",
        "    \n",
        "    model.train()\n",
        "    \n",
        "    for batch in iterator:\n",
        "        optimizer.zero_grad()\n",
        "        \n",
        "        text, text_lengths = batch.text\n",
        "        #print(f'text here:{text}')\n",
        "\n",
        "        predictions = model(text, text_lengths).squeeze(1)\n",
        "        \n",
        "        loss = criterion(predictions, batch.label)\n",
        "        \n",
        "        acc = binary_accuracy(predictions, batch.label)\n",
        "        \n",
        "        loss.backward()\n",
        "        \n",
        "        optimizer.step()\n",
        "        \n",
        "        epoch_loss += loss.item()\n",
        "        epoch_acc += acc.item()\n",
        "        \n",
        "    return epoch_loss / len(iterator), epoch_acc / len(iterator)"
      ],
      "execution_count": 20,
      "outputs": []
    },
    {
      "cell_type": "code",
      "metadata": {
        "id": "SGXMciL6ISta"
      },
      "source": [
        "def evaluate(model, iterator, criterion):\n",
        "    \n",
        "    epoch_loss = 0\n",
        "    epoch_acc = 0\n",
        "    \n",
        "    model.eval()\n",
        "    \n",
        "    with torch.no_grad():\n",
        "    \n",
        "        for batch in iterator:\n",
        "\n",
        "            text, text_lengths = batch.text\n",
        "            \n",
        "            predictions = model(text, text_lengths).squeeze(1)\n",
        "            \n",
        "            loss = criterion(predictions, batch.label)\n",
        "            \n",
        "            acc = binary_accuracy(predictions, batch.label)\n",
        "\n",
        "            epoch_loss += loss.item()\n",
        "            epoch_acc += acc.item()\n",
        "        \n",
        "    return epoch_loss / len(iterator), epoch_acc / len(iterator)"
      ],
      "execution_count": 21,
      "outputs": []
    },
    {
      "cell_type": "code",
      "metadata": {
        "id": "qM4riH57IVyJ"
      },
      "source": [
        "\n",
        "import time\n",
        "\n",
        "def epoch_time(start_time, end_time):\n",
        "    elapsed_time = end_time - start_time\n",
        "    elapsed_mins = int(elapsed_time / 60)\n",
        "    elapsed_secs = int(elapsed_time - (elapsed_mins * 60))\n",
        "    return elapsed_mins, elapsed_secs"
      ],
      "execution_count": 22,
      "outputs": []
    },
    {
      "cell_type": "code",
      "metadata": {
        "colab": {
          "base_uri": "https://localhost:8080/"
        },
        "id": "_aqrP3FGIZ6L",
        "outputId": "9df8d0b4-c9cf-48dc-fc76-de64b623a9c5"
      },
      "source": [
        "\n",
        "N_EPOCHS = 10\n",
        "\n",
        "best_valid_loss = float('inf')\n",
        "\n",
        "for epoch in range(N_EPOCHS):\n",
        "\n",
        "    start_time = time.time()\n",
        "    \n",
        "    train_loss, train_acc = train(model, train_iterator, optimizer, criterion)\n",
        "    valid_loss, valid_acc = evaluate(model, valid_iterator, criterion)\n",
        "    \n",
        "    end_time = time.time()\n",
        "\n",
        "    epoch_mins, epoch_secs = epoch_time(start_time, end_time)\n",
        "    \n",
        "    if valid_loss < best_valid_loss:\n",
        "        best_valid_loss = valid_loss\n",
        "        torch.save(model.state_dict(), 'tut2-model.pt')\n",
        "    \n",
        "    print(f'Epoch: {epoch+1:02} | Epoch Time: {epoch_mins}m {epoch_secs}s')\n",
        "    print(f'\\tTrain Loss: {train_loss:.3f} | Train Acc: {train_acc*100:.2f}%')\n",
        "    print(f'\\t Val. Loss: {valid_loss:.3f} |  Val. Acc: {valid_acc*100:.2f}%')"
      ],
      "execution_count": 23,
      "outputs": [
        {
          "output_type": "stream",
          "text": [
            "Epoch: 01 | Epoch Time: 2m 41s\n",
            "\tTrain Loss: 0.672 | Train Acc: 57.76%\n",
            "\t Val. Loss: 0.552 |  Val. Acc: 72.39%\n",
            "Epoch: 02 | Epoch Time: 2m 43s\n",
            "\tTrain Loss: 0.510 | Train Acc: 75.30%\n",
            "\t Val. Loss: 0.398 |  Val. Acc: 82.61%\n",
            "Epoch: 03 | Epoch Time: 2m 43s\n",
            "\tTrain Loss: 0.391 | Train Acc: 82.69%\n",
            "\t Val. Loss: 0.387 |  Val. Acc: 84.46%\n",
            "Epoch: 04 | Epoch Time: 2m 43s\n",
            "\tTrain Loss: 0.315 | Train Acc: 87.16%\n",
            "\t Val. Loss: 0.387 |  Val. Acc: 84.83%\n",
            "Epoch: 05 | Epoch Time: 2m 43s\n",
            "\tTrain Loss: 0.261 | Train Acc: 89.85%\n",
            "\t Val. Loss: 0.310 |  Val. Acc: 87.42%\n",
            "Epoch: 06 | Epoch Time: 2m 43s\n",
            "\tTrain Loss: 0.223 | Train Acc: 91.31%\n",
            "\t Val. Loss: 0.311 |  Val. Acc: 87.41%\n",
            "Epoch: 07 | Epoch Time: 2m 44s\n",
            "\tTrain Loss: 0.180 | Train Acc: 93.16%\n",
            "\t Val. Loss: 0.337 |  Val. Acc: 86.60%\n",
            "Epoch: 08 | Epoch Time: 2m 44s\n",
            "\tTrain Loss: 0.153 | Train Acc: 94.27%\n",
            "\t Val. Loss: 0.414 |  Val. Acc: 85.73%\n",
            "Epoch: 09 | Epoch Time: 2m 43s\n",
            "\tTrain Loss: 0.139 | Train Acc: 94.95%\n",
            "\t Val. Loss: 0.318 |  Val. Acc: 88.24%\n",
            "Epoch: 10 | Epoch Time: 2m 43s\n",
            "\tTrain Loss: 0.120 | Train Acc: 95.69%\n",
            "\t Val. Loss: 0.367 |  Val. Acc: 88.16%\n"
          ],
          "name": "stdout"
        }
      ]
    },
    {
      "cell_type": "code",
      "metadata": {
        "colab": {
          "base_uri": "https://localhost:8080/"
        },
        "id": "BqQjqPZCM69R",
        "outputId": "b9e8ce0b-05d1-40ed-e3d7-bf20b0a53356"
      },
      "source": [
        "model.load_state_dict(torch.load('tut2-model.pt'))\n",
        "\n",
        "test_loss, test_acc = evaluate(model, test_iterator, criterion)\n",
        "\n",
        "print(f'Test Loss: {test_loss:.3f} | Test Acc: {test_acc*100:.2f}%')"
      ],
      "execution_count": 24,
      "outputs": [
        {
          "output_type": "stream",
          "text": [
            "Test Loss: 0.371 | Test Acc: 84.22%\n"
          ],
          "name": "stdout"
        }
      ]
    },
    {
      "cell_type": "code",
      "metadata": {
        "colab": {
          "base_uri": "https://localhost:8080/"
        },
        "id": "Xgsbp4599luH",
        "outputId": "b2af577f-7d27-45a6-dee7-370ac46b3a4f"
      },
      "source": [
        "\n",
        "N_EPOCHS = 10\n",
        "\n",
        "best_valid_loss = float('inf')\n",
        "\n",
        "for epoch in range(N_EPOCHS):\n",
        "\n",
        "    start_time = time.time()\n",
        "    \n",
        "    train_loss, train_acc = train(model, train_iterator, optimizer, criterion)\n",
        "    valid_loss, valid_acc = evaluate(model, valid_iterator, criterion)\n",
        "    \n",
        "    end_time = time.time()\n",
        "\n",
        "    epoch_mins, epoch_secs = epoch_time(start_time, end_time)\n",
        "    \n",
        "    if valid_loss < best_valid_loss:\n",
        "        best_valid_loss = valid_loss\n",
        "        torch.save(model.state_dict(), 'tut2-model.pt')\n",
        "    \n",
        "    print(f'Epoch: {epoch+1:02} | Epoch Time: {epoch_mins}m {epoch_secs}s')\n",
        "    print(f'\\tTrain Loss: {train_loss:.3f} | Train Acc: {train_acc*100:.2f}%')\n",
        "    print(f'\\t Val. Loss: {valid_loss:.3f} |  Val. Acc: {valid_acc*100:.2f}%')"
      ],
      "execution_count": 25,
      "outputs": [
        {
          "output_type": "stream",
          "text": [
            "Epoch: 01 | Epoch Time: 2m 44s\n",
            "\tTrain Loss: 0.243 | Train Acc: 90.50%\n",
            "\t Val. Loss: 0.315 |  Val. Acc: 87.00%\n",
            "Epoch: 02 | Epoch Time: 2m 44s\n",
            "\tTrain Loss: 0.195 | Train Acc: 92.88%\n",
            "\t Val. Loss: 0.305 |  Val. Acc: 88.27%\n",
            "Epoch: 03 | Epoch Time: 2m 43s\n",
            "\tTrain Loss: 0.168 | Train Acc: 93.91%\n",
            "\t Val. Loss: 0.319 |  Val. Acc: 88.24%\n",
            "Epoch: 04 | Epoch Time: 2m 43s\n",
            "\tTrain Loss: 0.145 | Train Acc: 94.76%\n",
            "\t Val. Loss: 0.325 |  Val. Acc: 88.85%\n",
            "Epoch: 05 | Epoch Time: 2m 43s\n",
            "\tTrain Loss: 0.139 | Train Acc: 95.01%\n",
            "\t Val. Loss: 0.343 |  Val. Acc: 88.14%\n",
            "Epoch: 06 | Epoch Time: 2m 43s\n",
            "\tTrain Loss: 0.113 | Train Acc: 95.93%\n",
            "\t Val. Loss: 0.371 |  Val. Acc: 88.09%\n",
            "Epoch: 07 | Epoch Time: 2m 42s\n",
            "\tTrain Loss: 0.095 | Train Acc: 96.65%\n",
            "\t Val. Loss: 0.360 |  Val. Acc: 88.59%\n",
            "Epoch: 08 | Epoch Time: 2m 43s\n",
            "\tTrain Loss: 0.080 | Train Acc: 97.31%\n",
            "\t Val. Loss: 0.416 |  Val. Acc: 88.40%\n",
            "Epoch: 09 | Epoch Time: 2m 42s\n",
            "\tTrain Loss: 0.070 | Train Acc: 97.64%\n",
            "\t Val. Loss: 0.419 |  Val. Acc: 88.69%\n",
            "Epoch: 10 | Epoch Time: 2m 42s\n",
            "\tTrain Loss: 0.070 | Train Acc: 97.61%\n",
            "\t Val. Loss: 0.391 |  Val. Acc: 87.69%\n"
          ],
          "name": "stdout"
        }
      ]
    },
    {
      "cell_type": "code",
      "metadata": {
        "colab": {
          "base_uri": "https://localhost:8080/"
        },
        "id": "heBa59U7DiCq",
        "outputId": "8d586722-de39-4bdc-f03d-cdc14e307059"
      },
      "source": [
        "model.load_state_dict(torch.load('tut2-model.pt'))\n",
        "\n",
        "test_loss, test_acc = evaluate(model, test_iterator, criterion)\n",
        "\n",
        "print(f'Test Loss: {test_loss:.3f} | Test Acc: {test_acc*100:.2f}%')"
      ],
      "execution_count": 26,
      "outputs": [
        {
          "output_type": "stream",
          "text": [
            "Test Loss: 0.357 | Test Acc: 86.25%\n"
          ],
          "name": "stdout"
        }
      ]
    }
  ]
}