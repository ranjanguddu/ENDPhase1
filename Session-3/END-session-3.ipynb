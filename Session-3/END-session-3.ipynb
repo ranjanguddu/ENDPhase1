{
 "cells": [
  {
   "cell_type": "markdown",
   "metadata": {},
   "source": [
    "# Question-1: Write a function using only list filter lambda that can tell whether a number is a Fibonacci number or not. You can use a pre-calculated list/dict to store fab numbers till 10000 "
   ]
  },
  {
   "cell_type": "code",
   "execution_count": 62,
   "metadata": {},
   "outputs": [],
   "source": [
    "fib_series = [0, 1]\n",
    "\n",
    "while fib_series[-1] + fib_series[-2] < 10000:\n",
    "    fib_series.append(fib_series[-2] + fib_series[-1])\n",
    "    \n",
    "\n",
    "fib_check = lambda n: True if n in fib_series else False"
   ]
  },
  {
   "cell_type": "code",
   "execution_count": 2,
   "metadata": {},
   "outputs": [
    {
     "data": {
      "text/plain": [
       "False"
      ]
     },
     "execution_count": 2,
     "metadata": {},
     "output_type": "execute_result"
    }
   ],
   "source": [
    "fib_check(67)"
   ]
  },
  {
   "cell_type": "markdown",
   "metadata": {},
   "source": [
    "# Question-2:  Using list comprehension (and zip/lambda/etc if required) write five different expressions that\n",
    "\n",
    "   ## 2.1 add 2 iterables a and b such that a is even and b is odd\n",
    "  \n",
    "\n"
   ]
  },
  {
   "cell_type": "code",
   "execution_count": 17,
   "metadata": {},
   "outputs": [
    {
     "data": {
      "text/plain": [
       "[1, 5, 9, 13, 17]"
      ]
     },
     "execution_count": 17,
     "metadata": {},
     "output_type": "execute_result"
    }
   ],
   "source": [
    "l1 = range(10)\n",
    "l2 = range(10)\n",
    "list(map(lambda x,y:x+y,filter(lambda n: n%2==0, l1),filter(lambda m:m%2==1, l2)))"
   ]
  },
  {
   "cell_type": "markdown",
   "metadata": {},
   "source": [
    " ## 2.2 strips every vowel from a string provided (tsai>>t s)\n",
    "   "
   ]
  },
  {
   "cell_type": "code",
   "execution_count": 25,
   "metadata": {},
   "outputs": [],
   "source": [
    "vow = ['a', 'e', 'i', 'o', 'u']\n",
    "no_vowel = lambda s: ''.join([l for l in s.lower() if l not in vow])\n"
   ]
  },
  {
   "cell_type": "code",
   "execution_count": 26,
   "metadata": {},
   "outputs": [
    {
     "data": {
      "text/plain": [
       "'ts'"
      ]
     },
     "execution_count": 26,
     "metadata": {},
     "output_type": "execute_result"
    }
   ],
   "source": [
    "no_vowel('tsai')"
   ]
  },
  {
   "cell_type": "markdown",
   "metadata": {},
   "source": [
    "## 2.3 acts like a ReLU function for a 1D array\n",
    "  "
   ]
  },
  {
   "cell_type": "code",
   "execution_count": 24,
   "metadata": {},
   "outputs": [
    {
     "data": {
      "text/plain": [
       "[0, 0, 5, 1, 0, 0.7]"
      ]
     },
     "execution_count": 24,
     "metadata": {},
     "output_type": "execute_result"
    }
   ],
   "source": [
    "relu_fun = lambda a: [x if x >= 0 else 0 for x in a]\n",
    "relu_fun([-5,0,5,1,-0.5,0.7])"
   ]
  },
  {
   "cell_type": "markdown",
   "metadata": {},
   "source": [
    " ## 2.4 acts like a sigmoid function for a 1D array\n",
    "   "
   ]
  },
  {
   "cell_type": "code",
   "execution_count": 28,
   "metadata": {},
   "outputs": [
    {
     "data": {
      "text/plain": [
       "[0.7310585786300049, 0.8807970779778823, 0.9820137900379085]"
      ]
     },
     "execution_count": 28,
     "metadata": {},
     "output_type": "execute_result"
    }
   ],
   "source": [
    "import math\n",
    "sigmoid_fun = lambda input_list: [1 / (1 + math.e**(-x)) if x >= 0 else math.e**(x) / (1 + math.e**(x)) for x in input_list]\n",
    "sigmoid_fun([1,2,4])"
   ]
  },
  {
   "cell_type": "markdown",
   "metadata": {},
   "source": [
    "## 2.5 takes a small character string and shifts all characters by 5 (handle boundary conditions) tsai>>yxfn"
   ]
  },
  {
   "cell_type": "code",
   "execution_count": 31,
   "metadata": {},
   "outputs": [
    {
     "data": {
      "text/plain": [
       "['f', 'i', 'a', 'n', 'p', 'f']"
      ]
     },
     "execution_count": 31,
     "metadata": {},
     "output_type": "execute_result"
    }
   ],
   "source": [
    "list(map(lambda text: ''.join([chr((ord(char) - ord('a') + 5) % 26 + ord('a')) if 'a' <= char <= 'z' else char for char in text.lower()]),'Advika'))\n"
   ]
  },
  {
   "cell_type": "code",
   "execution_count": 32,
   "metadata": {},
   "outputs": [],
   "source": [
    "shift_char_fun = lambda text: ''.join([chr((ord(char) - ord('a') + 5) % 26 + ord('a')) if 'a' <= char <= 'z' else char for char in text.lower()])"
   ]
  },
  {
   "cell_type": "code",
   "execution_count": 33,
   "metadata": {},
   "outputs": [
    {
     "data": {
      "text/plain": [
       "'fianpf'"
      ]
     },
     "execution_count": 33,
     "metadata": {},
     "output_type": "execute_result"
    }
   ],
   "source": [
    "shift_char_fun('Advika')"
   ]
  },
  {
   "cell_type": "markdown",
   "metadata": {},
   "source": [
    "# Question-3: A list comprehension expression that takes a ~200 word paragraph (write your own paragraph to check), and checks whether it has any of the swear words mentioned in https://github.com/RobertJGabriel/Google-profanity-words/blob/master/list.txt"
   ]
  },
  {
   "cell_type": "code",
   "execution_count": 39,
   "metadata": {},
   "outputs": [],
   "source": [
    "import urllib\n",
    "url = \"https://raw.githubusercontent.com/RobertJGabriel/Google-profanity-words/master/list.txt\"\n",
    "swear_words = [line.decode(\"utf-8\").replace('\\n','') for line in urllib.request.urlopen(url).readlines()]\n",
    "check_swear_words = lambda s : any([word for word in s.split() if word.lower() in swear_words])"
   ]
  },
  {
   "cell_type": "code",
   "execution_count": 41,
   "metadata": {},
   "outputs": [
    {
     "data": {
      "text/plain": [
       "False"
      ]
     },
     "execution_count": 41,
     "metadata": {},
     "output_type": "execute_result"
    }
   ],
   "source": [
    "\n",
    "check_swear_words(\"he was good boy\")"
   ]
  },
  {
   "cell_type": "code",
   "execution_count": 42,
   "metadata": {},
   "outputs": [
    {
     "data": {
      "text/plain": [
       "True"
      ]
     },
     "execution_count": 42,
     "metadata": {},
     "output_type": "execute_result"
    }
   ],
   "source": [
    "check_swear_words(\"he was bastard\")"
   ]
  },
  {
   "cell_type": "markdown",
   "metadata": {},
   "source": [
    "# Quetion-4:  Using reduce functions\n",
    "\n",
    "  \n",
    "\n"
   ]
  },
  {
   "cell_type": "markdown",
   "metadata": {},
   "source": [
    "##  4.1   add only even numbers in a list\n",
    "   "
   ]
  },
  {
   "cell_type": "code",
   "execution_count": 44,
   "metadata": {},
   "outputs": [],
   "source": [
    "from functools import reduce\n",
    "l = range(10)\n",
    "\n",
    "val = lambda l : reduce(lambda a, b: a + b if b % 2 == 0 else a, l, 0)"
   ]
  },
  {
   "cell_type": "code",
   "execution_count": 45,
   "metadata": {},
   "outputs": [
    {
     "data": {
      "text/plain": [
       "20"
      ]
     },
     "execution_count": 45,
     "metadata": {},
     "output_type": "execute_result"
    }
   ],
   "source": [
    "val(l)"
   ]
  },
  {
   "cell_type": "markdown",
   "metadata": {},
   "source": [
    "## 4.2  find the biggest character in a string (printable ascii characters)\n",
    "    \n",
    "    "
   ]
  },
  {
   "cell_type": "code",
   "execution_count": 46,
   "metadata": {},
   "outputs": [
    {
     "data": {
      "text/plain": [
       "'v'"
      ]
     },
     "execution_count": 46,
     "metadata": {},
     "output_type": "execute_result"
    }
   ],
   "source": [
    "big_char_finder = lambda s : reduce(lambda x, y: x if ord(x) > ord(y) else y, s)\n",
    "big_char_finder('Advika')"
   ]
  },
  {
   "cell_type": "markdown",
   "metadata": {},
   "source": [
    "## 4.3 adds every 3rd number in a list"
   ]
  },
  {
   "cell_type": "code",
   "execution_count": 47,
   "metadata": {},
   "outputs": [
    {
     "data": {
      "text/plain": [
       "40"
      ]
     },
     "execution_count": 47,
     "metadata": {},
     "output_type": "execute_result"
    }
   ],
   "source": [
    "add_3rd_ele = lambda l : reduce(lambda x, y: x + y, l[2::3], 0)\n",
    "add_3rd_ele(range(15))"
   ]
  },
  {
   "cell_type": "markdown",
   "metadata": {},
   "source": [
    "# Question-5: Using randint, random.choice and list comprehensions, write an expression that generates 15 random KADDAADDDD number plates, where KA is fixed, D stands for a digit, and A stands for Capital alphabets. 10<<DD<<99 & 1000<<DDDD<<9999"
   ]
  },
  {
   "cell_type": "code",
   "execution_count": 51,
   "metadata": {},
   "outputs": [
    {
     "data": {
      "text/plain": [
       "['KA81TK4211',\n",
       " 'KA44PR1770',\n",
       " 'KA66XH2027',\n",
       " 'KA29VG1235',\n",
       " 'KA86FK4445',\n",
       " 'KA31PA2952',\n",
       " 'KA81PI6526',\n",
       " 'KA19ZH3862',\n",
       " 'KA57FN7663',\n",
       " 'KA25CS5526',\n",
       " 'KA14ET4406',\n",
       " 'KA11HH4492',\n",
       " 'KA49IE2707',\n",
       " 'KA17HG3209',\n",
       " 'KA31EA6558']"
      ]
     },
     "execution_count": 51,
     "metadata": {},
     "output_type": "execute_result"
    }
   ],
   "source": [
    "import random\n",
    "num_plate = lambda : [f'KA{random.randint(10, 99)}{chr(random.randint(65, 90))}{chr(random.randint(65, 90))}{random.randint(1000, 9999)}' for i in range(15)]\n",
    "num_plate()"
   ]
  },
  {
   "cell_type": "markdown",
   "metadata": {},
   "source": [
    "# Question-6: Write the above again from scratch where KA can be changed to DL, and 1000/9999 ranges can be provided."
   ]
  },
  {
   "cell_type": "code",
   "execution_count": 60,
   "metadata": {},
   "outputs": [],
   "source": [
    "from functools import partial\n",
    "num_plates_core = lambda state_init='KA', number_plate='2532' : [f\"{state_init}{random.randint(10, 99)}{chr(random.randint(65, 90))}{chr(random.randint(65, 90))}{number_plate}\" for i in range(15)]\n",
    "\n",
    "other_plate = partial(num_plates_core, state_init = 'DL', number_plate = '5468')"
   ]
  },
  {
   "cell_type": "code",
   "execution_count": 61,
   "metadata": {},
   "outputs": [
    {
     "data": {
      "text/plain": [
       "['DL54YL5468',\n",
       " 'DL59RP5468',\n",
       " 'DL21QQ5468',\n",
       " 'DL94HR5468',\n",
       " 'DL48DX5468',\n",
       " 'DL10BE5468',\n",
       " 'DL37DZ5468',\n",
       " 'DL84HO5468',\n",
       " 'DL86DH5468',\n",
       " 'DL73KN5468',\n",
       " 'DL54TL5468',\n",
       " 'DL48RQ5468',\n",
       " 'DL44HS5468',\n",
       " 'DL96MN5468',\n",
       " 'DL91UM5468']"
      ]
     },
     "execution_count": 61,
     "metadata": {},
     "output_type": "execute_result"
    }
   ],
   "source": [
    "other_plate()"
   ]
  },
  {
   "cell_type": "code",
   "execution_count": null,
   "metadata": {},
   "outputs": [],
   "source": []
  }
 ],
 "metadata": {
  "kernelspec": {
   "display_name": "Python 3",
   "language": "python",
   "name": "python3"
  },
  "language_info": {
   "codemirror_mode": {
    "name": "ipython",
    "version": 3
   },
   "file_extension": ".py",
   "mimetype": "text/x-python",
   "name": "python",
   "nbconvert_exporter": "python",
   "pygments_lexer": "ipython3",
   "version": "3.8.3"
  }
 },
 "nbformat": 4,
 "nbformat_minor": 4
}
